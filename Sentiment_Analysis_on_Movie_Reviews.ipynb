{
  "nbformat": 4,
  "nbformat_minor": 0,
  "metadata": {
    "colab": {
      "provenance": [],
      "authorship_tag": "ABX9TyMNkhO7XZV5Mpvn1FS+uhRh",
      "include_colab_link": true
    },
    "kernelspec": {
      "name": "python3",
      "display_name": "Python 3"
    },
    "language_info": {
      "name": "python"
    }
  },
  "cells": [
    {
      "cell_type": "markdown",
      "metadata": {
        "id": "view-in-github",
        "colab_type": "text"
      },
      "source": [
        "<a href=\"https://colab.research.google.com/github/shinde0001/ml-model1/blob/main/Sentiment_Analysis_on_Movie_Reviews.ipynb\" target=\"_parent\"><img src=\"https://colab.research.google.com/assets/colab-badge.svg\" alt=\"Open In Colab\"/></a>"
      ]
    },
    {
      "source": [
        "# Task\n",
        "Sentiment Analysis on Movie Reviews\n",
        "\n",
        "Here is all the data you need:\n",
        "\"movie_reviews.csv\""
      ],
      "cell_type": "markdown",
      "metadata": {
        "id": "J7A4dncR0mc8"
      }
    },
    {
      "source": [
        "## Data loading\n",
        "\n",
        "### Subtask:\n",
        "Load the movie review dataset.\n"
      ],
      "cell_type": "markdown",
      "metadata": {
        "id": "fzeuoHwY0ms8"
      }
    },
    {
      "source": [
        "**Reasoning**:\n",
        "Import pandas and load the movie review dataset, then print the first few rows and the shape of the DataFrame.\n",
        "\n"
      ],
      "cell_type": "markdown",
      "metadata": {
        "id": "7w3Z6dD00m8w"
      }
    },
    {
      "source": [
        "import pandas as pd\n",
        "\n",
        "try:\n",
        "    df = pd.read_csv('movie_reviews.csv')\n",
        "    print(df.head())\n",
        "    print(df.shape)\n",
        "except FileNotFoundError:\n",
        "    print(\"Error: 'movie_reviews.csv' not found.\")\n",
        "except Exception as e:\n",
        "    print(f\"An error occurred: {e}\")"
      ],
      "cell_type": "code",
      "metadata": {
        "colab": {
          "base_uri": "https://localhost:8080/"
        },
        "id": "W7nhzw720nMn",
        "outputId": "3939d946-db4c-48e0-acdb-5900283f00c7"
      },
      "execution_count": 1,
      "outputs": [
        {
          "output_type": "stream",
          "name": "stdout",
          "text": [
            "         Movie Title  Release Year    Genre  \\\n",
            "0          Inception          1992   Action   \n",
            "1  Avengers: Endgame          2008   Comedy   \n",
            "2         Fight Club          2020  Romance   \n",
            "3  Good Will Hunting          2012   Action   \n",
            "4       Forrest Gump          1999   Horror   \n",
            "\n",
            "                                              Review  Rating  \\\n",
            "0  A Thriller movie that is highly rated and love...       8   \n",
            "1  A Horror movie that is highly rated and loved ...       9   \n",
            "2  A Sci-Fi movie that is highly rated and loved ...       1   \n",
            "3  A Thriller movie that is highly rated and love...       4   \n",
            "4  A Drama movie that is highly rated and loved b...       6   \n",
            "\n",
            "            Director                                          Main Cast  \n",
            "0  Quentin Tarantino     Brad Pitt, Edward Norton, Helena Bonham Carter  \n",
            "1  Quentin Tarantino     Brad Pitt, Edward Norton, Helena Bonham Carter  \n",
            "2       Ridley Scott            Matt Damon, Robin Williams, Ben Affleck  \n",
            "3       Ridley Scott  Leonardo DiCaprio, Joseph Gordon-Levitt, Ellen...  \n",
            "4   Steven Spielberg            Matt Damon, Robin Williams, Ben Affleck  \n",
            "(100, 7)\n"
          ]
        }
      ]
    },
    {
      "source": [
        "## Data exploration\n",
        "\n",
        "### Subtask:\n",
        "Explore the loaded movie review dataset.\n"
      ],
      "cell_type": "markdown",
      "metadata": {
        "id": "mgp9W_wr0vBj"
      }
    },
    {
      "source": [
        "**Reasoning**:\n",
        "Analyze the distribution of sentiments, check for missing values, analyze review lengths, and investigate the relationship between sentiment and review length.\n",
        "\n"
      ],
      "cell_type": "markdown",
      "metadata": {
        "id": "zqMPvZI80v8e"
      }
    },
    {
      "source": [
        "import matplotlib.pyplot as plt\n",
        "import seaborn as sns\n",
        "\n",
        "# 1. Sentiment Distribution\n",
        "sentiment_counts = df['Rating'].value_counts()\n",
        "plt.figure(figsize=(8, 6))\n",
        "sns.barplot(x=sentiment_counts.index, y=sentiment_counts.values)\n",
        "plt.title('Distribution of Sentiments')\n",
        "plt.xlabel('Rating')\n",
        "plt.ylabel('Number of Reviews')\n",
        "plt.show()\n",
        "\n",
        "# 2. Missing Values\n",
        "missing_values = df.isnull().sum()\n",
        "print(\"Missing Values per Column:\\n\", missing_values)\n",
        "\n",
        "# 3. Review Length Analysis\n",
        "df['review_length'] = df['Review'].apply(len)  # Character count\n",
        "plt.figure(figsize=(10, 6))\n",
        "plt.hist(df['review_length'], bins=20)\n",
        "plt.title('Distribution of Review Lengths')\n",
        "plt.xlabel('Review Length (characters)')\n",
        "plt.ylabel('Number of Reviews')\n",
        "plt.show()\n",
        "\n",
        "print(\"Review Length Statistics:\")\n",
        "print(df['review_length'].describe())\n",
        "\n",
        "# 4. Relationship between Sentiment and Review Length\n",
        "plt.figure(figsize=(10, 6))\n",
        "sns.boxplot(x='Rating', y='review_length', data=df)\n",
        "plt.title('Review Length vs. Sentiment')\n",
        "plt.xlabel('Rating')\n",
        "plt.ylabel('Review Length (characters)')\n",
        "plt.show()"
      ],
      "cell_type": "code",
      "metadata": {
        "colab": {
          "base_uri": "https://localhost:8080/",
          "height": 1000
        },
        "id": "qxAhoCyf0wMM",
        "outputId": "b28ba656-15b1-46b4-91d6-d9e9a22e9b8f"
      },
      "execution_count": 2,
      "outputs": [
        {
          "output_type": "display_data",
          "data": {
            "text/plain": [
              "<Figure size 800x600 with 1 Axes>"
            ],
            "image/png": "[encoded data removed]"
          },
          "metadata": {}
        },
        {
          "output_type": "stream",
          "name": "stdout",
          "text": [
            "Missing Values per Column:\n",
            " Movie Title     0\n",
            "Release Year    0\n",
            "Genre           0\n",
            "Review          0\n",
            "Rating          0\n",
            "Director        0\n",
            "Main Cast       0\n",
            "dtype: int64\n"
          ]
        },
        {
          "output_type": "display_data",
          "data": {
            "text/plain": [
              "<Figure size 1000x600 with 1 Axes>"
            ],
            "image/png": "[encoded data removed]"
          },
          "metadata": {}
        },
        {
          "output_type": "stream",
          "name": "stdout",
          "text": [
            "Review Length Statistics:\n",
            "count    100.000000\n",
            "mean      57.720000\n",
            "std        1.295525\n",
            "min       56.000000\n",
            "25%       57.000000\n",
            "50%       57.000000\n",
            "75%       59.000000\n",
            "max       60.000000\n",
            "Name: review_length, dtype: float64\n"
          ]
        },
        {
          "output_type": "display_data",
          "data": {
            "text/plain": [
              "<Figure size 1000x600 with 1 Axes>"
            ],
            "image/png": "[encoded data removed]"
          },
          "metadata": {}
        }
      ]
    },
    {
      "source": [
        "## Data cleaning\n",
        "\n",
        "### Subtask:\n",
        "Clean the review text data in the 'Review' column of the DataFrame `df`.\n"
      ],
      "cell_type": "markdown",
      "metadata": {
        "id": "xVLmZ6wT03hh"
      }
    },
    {
      "source": [
        "**Reasoning**:\n",
        "Clean the 'Review' column by handling missing values (though none were found), lowercasing, removing punctuation, removing stop words, and stemming.  This will create the 'cleaned_review' column.\n",
        "\n"
      ],
      "cell_type": "markdown",
      "metadata": {
        "id": "o5dVibHg05lI"
      }
    },
    {
      "source": [
        "import nltk\n",
        "nltk.download('punkt_tab')\n",
        "\n",
        "import re\n",
        "from nltk.corpus import stopwords\n",
        "from nltk.stem import PorterStemmer\n",
        "\n",
        "stop_words = set(stopwords.words('english'))\n",
        "stemmer = PorterStemmer()\n",
        "\n",
        "def clean_text(text):\n",
        "    if pd.isna(text):  # Handle missing values\n",
        "        return \"\"\n",
        "\n",
        "    text = text.lower()  # Lowercase\n",
        "    text = re.sub(r'[^\\w\\s]', '', text)  # Remove punctuation\n",
        "    words = nltk.word_tokenize(text)  # Tokenize\n",
        "    words = [word for word in words if word not in stop_words]  # Stop words\n",
        "    words = [stemmer.stem(word) for word in words]  # Stemming\n",
        "    return \" \".join(words)\n",
        "\n",
        "\n",
        "df['cleaned_review'] = df['Review'].apply(clean_text)\n",
        "display(df.head())"
      ],
      "cell_type": "code",
      "metadata": {
        "colab": {
          "base_uri": "https://localhost:8080/",
          "height": 657
        },
        "id": "MzlTHJFp0913",
        "outputId": "35043a86-4baf-4b27-d6f9-26dbef3e37eb"
      },
      "execution_count": 4,
      "outputs": [
        {
          "output_type": "stream",
          "name": "stderr",
          "text": [
            "[nltk_data] Downloading package punkt_tab to /root/nltk_data...\n",
            "[nltk_data]   Unzipping tokenizers/punkt_tab.zip.\n"
          ]
        },
        {
          "output_type": "display_data",
          "data": {
            "text/plain": [
              "         Movie Title  Release Year    Genre  \\\n",
              "0          Inception          1992   Action   \n",
              "1  Avengers: Endgame          2008   Comedy   \n",
              "2         Fight Club          2020  Romance   \n",
              "3  Good Will Hunting          2012   Action   \n",
              "4       Forrest Gump          1999   Horror   \n",
              "\n",
              "                                              Review  Rating  \\\n",
              "0  A Thriller movie that is highly rated and love...       8   \n",
              "1  A Horror movie that is highly rated and loved ...       9   \n",
              "2  A Sci-Fi movie that is highly rated and loved ...       1   \n",
              "3  A Thriller movie that is highly rated and love...       4   \n",
              "4  A Drama movie that is highly rated and loved b...       6   \n",
              "\n",
              "            Director                                          Main Cast  \\\n",
              "0  Quentin Tarantino     Brad Pitt, Edward Norton, Helena Bonham Carter   \n",
              "1  Quentin Tarantino     Brad Pitt, Edward Norton, Helena Bonham Carter   \n",
              "2       Ridley Scott            Matt Damon, Robin Williams, Ben Affleck   \n",
              "3       Ridley Scott  Leonardo DiCaprio, Joseph Gordon-Levitt, Ellen...   \n",
              "4   Steven Spielberg            Matt Damon, Robin Williams, Ben Affleck   \n",
              "\n",
              "   review_length                         cleaned_review  \n",
              "0             59  thriller movi highli rate love critic  \n",
              "1             57    horror movi highli rate love critic  \n",
              "2             57     scifi movi highli rate love critic  \n",
              "3             59  thriller movi highli rate love critic  \n",
              "4             56     drama movi highli rate love critic  "
            ],
            "text/html": [
              "\n",
              "  <div id=\"df-e73d417a-ff01-415a-b2ea-9962af280338\" class=\"colab-df-container\">\n",
              "    <div>\n",
              "<style scoped>\n",
              "    .dataframe tbody tr th:only-of-type {\n",
              "        vertical-align: middle;\n",
              "    }\n",
              "\n",
              "    .dataframe tbody tr th {\n",
              "        vertical-align: top;\n",
              "    }\n",
              "\n",
              "    .dataframe thead th {\n",
              "        text-align: right;\n",
              "    }\n",
              "</style>\n",
              "<table border=\"1\" class=\"dataframe\">\n",
              "  <thead>\n",
              "    <tr style=\"text-align: right;\">\n",
              "      <th></th>\n",
              "      <th>Movie Title</th>\n",
              "      <th>Release Year</th>\n",
              "      <th>Genre</th>\n",
              "      <th>Review</th>\n",
              "      <th>Rating</th>\n",
              "      <th>Director</th>\n",
              "      <th>Main Cast</th>\n",
              "      <th>review_length</th>\n",
              "      <th>cleaned_review</th>\n",
              "    </tr>\n",
              "  </thead>\n",
              "  <tbody>\n",
              "    <tr>\n",
              "      <th>0</th>\n",
              "      <td>Inception</td>\n",
              "      <td>1992</td>\n",
              "      <td>Action</td>\n",
              "      <td>A Thriller movie that is highly rated and love...</td>\n",
              "      <td>8</td>\n",
              "      <td>Quentin Tarantino</td>\n",
              "      <td>Brad Pitt, Edward Norton, Helena Bonham Carter</td>\n",
              "      <td>59</td>\n",
              "      <td>thriller movi highli rate love critic</td>\n",
              "    </tr>\n",
              "    <tr>\n",
              "      <th>1</th>\n",
              "      <td>Avengers: Endgame</td>\n",
              "      <td>2008</td>\n",
              "      <td>Comedy</td>\n",
              "      <td>A Horror movie that is highly rated and loved ...</td>\n",
              "      <td>9</td>\n",
              "      <td>Quentin Tarantino</td>\n",
              "      <td>Brad Pitt, Edward Norton, Helena Bonham Carter</td>\n",
              "      <td>57</td>\n",
              "      <td>horror movi highli rate love critic</td>\n",
              "    </tr>\n",
              "    <tr>\n",
              "      <th>2</th>\n",
              "      <td>Fight Club</td>\n",
              "      <td>2020</td>\n",
              "      <td>Romance</td>\n",
              "      <td>A Sci-Fi movie that is highly rated and loved ...</td>\n",
              "      <td>1</td>\n",
              "      <td>Ridley Scott</td>\n",
              "      <td>Matt Damon, Robin Williams, Ben Affleck</td>\n",
              "      <td>57</td>\n",
              "      <td>scifi movi highli rate love critic</td>\n",
              "    </tr>\n",
              "    <tr>\n",
              "      <th>3</th>\n",
              "      <td>Good Will Hunting</td>\n",
              "      <td>2012</td>\n",
              "      <td>Action</td>\n",
              "      <td>A Thriller movie that is highly rated and love...</td>\n",
              "      <td>4</td>\n",
              "      <td>Ridley Scott</td>\n",
              "      <td>Leonardo DiCaprio, Joseph Gordon-Levitt, Ellen...</td>\n",
              "      <td>59</td>\n",
              "      <td>thriller movi highli rate love critic</td>\n",
              "    </tr>\n",
              "    <tr>\n",
              "      <th>4</th>\n",
              "      <td>Forrest Gump</td>\n",
              "      <td>1999</td>\n",
              "      <td>Horror</td>\n",
              "      <td>A Drama movie that is highly rated and loved b...</td>\n",
              "      <td>6</td>\n",
              "      <td>Steven Spielberg</td>\n",
              "      <td>Matt Damon, Robin Williams, Ben Affleck</td>\n",
              "      <td>56</td>\n",
              "      <td>drama movi highli rate love critic</td>\n",
              "    </tr>\n",
              "  </tbody>\n",
              "</table>\n",
              "</div>\n",
              "    <div class=\"colab-df-buttons\">\n",
              "\n",
              "  <div class=\"colab-df-container\">\n",
              "    <button class=\"colab-df-convert\" onclick=\"convertToInteractive('df-e73d417a-ff01-415a-b2ea-9962af280338')\"\n",
              "            title=\"Convert this dataframe to an interactive table.\"\n",
              "            style=\"display:none;\">\n",
              "\n",
              "  <svg xmlns=\"http://www.w3.org/2000/svg\" height=\"24px\" viewBox=\"0 -960 960 960\">\n",
              "    <path d=\"M120-120v-720h720v720H120Zm60-500h600v-160H180v160Zm220 220h160v-160H400v160Zm0 220h160v-160H400v160ZM180-400h160v-160H180v160Zm440 0h160v-160H620v160ZM180-180h160v-160H180v160Zm440 0h160v-160H620v160Z\"/>\n",
              "  </svg>\n",
              "    </button>\n",
              "\n",
              "  <style>\n",
              "    .colab-df-container {\n",
              "      display:flex;\n",
              "      gap: 12px;\n",
              "    }\n",
              "\n",
              "    .colab-df-convert {\n",
              "      background-color: #E8F0FE;\n",
              "      border: none;\n",
              "      border-radius: 50%;\n",
              "      cursor: pointer;\n",
              "      display: none;\n",
              "      fill: #1967D2;\n",
              "      height: 32px;\n",
              "      padding: 0 0 0 0;\n",
              "      width: 32px;\n",
              "    }\n",
              "\n",
              "    .colab-df-convert:hover {\n",
              "      background-color: #E2EBFA;\n",
              "      box-shadow: 0px 1px 2px rgba(60, 64, 67, 0.3), 0px 1px 3px 1px rgba(60, 64, 67, 0.15);\n",
              "      fill: #174EA6;\n",
              "    }\n",
              "\n",
              "    .colab-df-buttons div {\n",
              "      margin-bottom: 4px;\n",
              "    }\n",
              "\n",
              "    [theme=dark] .colab-df-convert {\n",
              "      background-color: #3B4455;\n",
              "      fill: #D2E3FC;\n",
              "    }\n",
              "\n",
              "    [theme=dark] .colab-df-convert:hover {\n",
              "      background-color: #434B5C;\n",
              "      box-shadow: 0px 1px 3px 1px rgba(0, 0, 0, 0.15);\n",
              "      filter: drop-shadow(0px 1px 2px rgba(0, 0, 0, 0.3));\n",
              "      fill: #FFFFFF;\n",
              "    }\n",
              "  </style>\n",
              "\n",
              "    <script>\n",
              "      const buttonEl =\n",
              "        document.querySelector('#df-e73d417a-ff01-415a-b2ea-9962af280338 button.colab-df-convert');\n",
              "      buttonEl.style.display =\n",
              "        google.colab.kernel.accessAllowed ? 'block' : 'none';\n",
              "\n",
              "      async function convertToInteractive(key) {\n",
              "        const element = document.querySelector('#df-e73d417a-ff01-415a-b2ea-9962af280338');\n",
              "        const dataTable =\n",
              "          await google.colab.kernel.invokeFunction('convertToInteractive',\n",
              "                                                    [key], {});\n",
              "        if (!dataTable) return;\n",
              "\n",
              "        const docLinkHtml = 'Like what you see? Visit the ' +\n",
              "          '<a target=\"_blank\" href=https://colab.research.google.com/notebooks/data_table.ipynb>data table notebook</a>'\n",
              "          + ' to learn more about interactive tables.';\n",
              "        element.innerHTML = '';\n",
              "        dataTable['output_type'] = 'display_data';\n",
              "        await google.colab.output.renderOutput(dataTable, element);\n",
              "        const docLink = document.createElement('div');\n",
              "        docLink.innerHTML = docLinkHtml;\n",
              "        element.appendChild(docLink);\n",
              "      }\n",
              "    </script>\n",
              "  </div>\n",
              "\n",
              "\n",
              "<div id=\"df-421f9cd1-cf48-47a9-8d43-76f69dfb4675\">\n",
              "  <button class=\"colab-df-quickchart\" onclick=\"quickchart('df-421f9cd1-cf48-47a9-8d43-76f69dfb4675')\"\n",
              "            title=\"Suggest charts\"\n",
              "            style=\"display:none;\">\n",
              "\n",
              "<svg xmlns=\"http://www.w3.org/2000/svg\" height=\"24px\"viewBox=\"0 0 24 24\"\n",
              "     width=\"24px\">\n",
              "    <g>\n",
              "        <path d=\"M19 3H5c-1.1 0-2 .9-2 2v14c0 1.1.9 2 2 2h14c1.1 0 2-.9 2-2V5c0-1.1-.9-2-2-2zM9 17H7v-7h2v7zm4 0h-2V7h2v10zm4 0h-2v-4h2v4z\"/>\n",
              "    </g>\n",
              "</svg>\n",
              "  </button>\n",
              "\n",
              "<style>\n",
              "  .colab-df-quickchart {\n",
              "      --bg-color: #E8F0FE;\n",
              "      --fill-color: #1967D2;\n",
              "      --hover-bg-color: #E2EBFA;\n",
              "      --hover-fill-color: #174EA6;\n",
              "      --disabled-fill-color: #AAA;\n",
              "      --disabled-bg-color: #DDD;\n",
              "  }\n",
              "\n",
              "  [theme=dark] .colab-df-quickchart {\n",
              "      --bg-color: #3B4455;\n",
              "      --fill-color: #D2E3FC;\n",
              "      --hover-bg-color: #434B5C;\n",
              "      --hover-fill-color: #FFFFFF;\n",
              "      --disabled-bg-color: #3B4455;\n",
              "      --disabled-fill-color: #666;\n",
              "  }\n",
              "\n",
              "  .colab-df-quickchart {\n",
              "    background-color: var(--bg-color);\n",
              "    border: none;\n",
              "    border-radius: 50%;\n",
              "    cursor: pointer;\n",
              "    display: none;\n",
              "    fill: var(--fill-color);\n",
              "    height: 32px;\n",
              "    padding: 0;\n",
              "    width: 32px;\n",
              "  }\n",
              "\n",
              "  .colab-df-quickchart:hover {\n",
              "    background-color: var(--hover-bg-color);\n",
              "    box-shadow: 0 1px 2px rgba(60, 64, 67, 0.3), 0 1px 3px 1px rgba(60, 64, 67, 0.15);\n",
              "    fill: var(--button-hover-fill-color);\n",
              "  }\n",
              "\n",
              "  .colab-df-quickchart-complete:disabled,\n",
              "  .colab-df-quickchart-complete:disabled:hover {\n",
              "    background-color: var(--disabled-bg-color);\n",
              "    fill: var(--disabled-fill-color);\n",
              "    box-shadow: none;\n",
              "  }\n",
              "\n",
              "  .colab-df-spinner {\n",
              "    border: 2px solid var(--fill-color);\n",
              "    border-color: transparent;\n",
              "    border-bottom-color: var(--fill-color);\n",
              "    animation:\n",
              "      spin 1s steps(1) infinite;\n",
              "  }\n",
              "\n",
              "  @keyframes spin {\n",
              "    0% {\n",
              "      border-color: transparent;\n",
              "      border-bottom-color: var(--fill-color);\n",
              "      border-left-color: var(--fill-color);\n",
              "    }\n",
              "    20% {\n",
              "      border-color: transparent;\n",
              "      border-left-color: var(--fill-color);\n",
              "      border-top-color: var(--fill-color);\n",
              "    }\n",
              "    30% {\n",
              "      border-color: transparent;\n",
              "      border-left-color: var(--fill-color);\n",
              "      border-top-color: var(--fill-color);\n",
              "      border-right-color: var(--fill-color);\n",
              "    }\n",
              "    40% {\n",
              "      border-color: transparent;\n",
              "      border-right-color: var(--fill-color);\n",
              "      border-top-color: var(--fill-color);\n",
              "    }\n",
              "    60% {\n",
              "      border-color: transparent;\n",
              "      border-right-color: var(--fill-color);\n",
              "    }\n",
              "    80% {\n",
              "      border-color: transparent;\n",
              "      border-right-color: var(--fill-color);\n",
              "      border-bottom-color: var(--fill-color);\n",
              "    }\n",
              "    90% {\n",
              "      border-color: transparent;\n",
              "      border-bottom-color: var(--fill-color);\n",
              "    }\n",
              "  }\n",
              "</style>\n",
              "\n",
              "  <script>\n",
              "    async function quickchart(key) {\n",
              "      const quickchartButtonEl =\n",
              "        document.querySelector('#' + key + ' button');\n",
              "      quickchartButtonEl.disabled = true;  // To prevent multiple clicks.\n",
              "      quickchartButtonEl.classList.add('colab-df-spinner');\n",
              "      try {\n",
              "        const charts = await google.colab.kernel.invokeFunction(\n",
              "            'suggestCharts', [key], {});\n",
              "      } catch (error) {\n",
              "        console.error('Error during call to suggestCharts:', error);\n",
              "      }\n",
              "      quickchartButtonEl.classList.remove('colab-df-spinner');\n",
              "      quickchartButtonEl.classList.add('colab-df-quickchart-complete');\n",
              "    }\n",
              "    (() => {\n",
              "      let quickchartButtonEl =\n",
              "        document.querySelector('#df-421f9cd1-cf48-47a9-8d43-76f69dfb4675 button');\n",
              "      quickchartButtonEl.style.display =\n",
              "        google.colab.kernel.accessAllowed ? 'block' : 'none';\n",
              "    })();\n",
              "  </script>\n",
              "</div>\n",
              "\n",
              "    </div>\n",
              "  </div>\n"
            ],
            "application/vnd.google.colaboratory.intrinsic+json": {
              "type": "dataframe",
              "summary": "{\n  \"name\": \"display(df\",\n  \"rows\": 5,\n  \"fields\": [\n    {\n      \"column\": \"Movie Title\",\n      \"properties\": {\n        \"dtype\": \"string\",\n        \"num_unique_values\": 5,\n        \"samples\": [\n          \"Avengers: Endgame\",\n          \"Forrest Gump\",\n          \"Fight Club\"\n        ],\n        \"semantic_type\": \"\",\n        \"description\": \"\"\n      }\n    },\n    {\n      \"column\": \"Release Year\",\n      \"properties\": {\n        \"dtype\": \"number\",\n        \"std\": 10,\n        \"min\": 1992,\n        \"max\": 2020,\n        \"num_unique_values\": 5,\n        \"samples\": [\n          2008,\n          1999,\n          2020\n        ],\n        \"semantic_type\": \"\",\n        \"description\": \"\"\n      }\n    },\n    {\n      \"column\": \"Genre\",\n      \"properties\": {\n        \"dtype\": \"string\",\n        \"num_unique_values\": 4,\n        \"samples\": [\n          \"Comedy\",\n          \"Horror\",\n          \"Action\"\n        ],\n        \"semantic_type\": \"\",\n        \"description\": \"\"\n      }\n    },\n    {\n      \"column\": \"Review\",\n      \"properties\": {\n        \"dtype\": \"string\",\n        \"num_unique_values\": 4,\n        \"samples\": [\n          \"A Horror movie that is highly rated and loved by critics.\",\n          \"A Drama movie that is highly rated and loved by critics.\",\n          \"A Thriller movie that is highly rated and loved by critics.\"\n        ],\n        \"semantic_type\": \"\",\n        \"description\": \"\"\n      }\n    },\n    {\n      \"column\": \"Rating\",\n      \"properties\": {\n        \"dtype\": \"number\",\n        \"std\": 3,\n        \"min\": 1,\n        \"max\": 9,\n        \"num_unique_values\": 5,\n        \"samples\": [\n          9,\n          6,\n          1\n        ],\n        \"semantic_type\": \"\",\n        \"description\": \"\"\n      }\n    },\n    {\n      \"column\": \"Director\",\n      \"properties\": {\n        \"dtype\": \"string\",\n        \"num_unique_values\": 3,\n        \"samples\": [\n          \"Quentin Tarantino\",\n          \"Ridley Scott\",\n          \"Steven Spielberg\"\n        ],\n        \"semantic_type\": \"\",\n        \"description\": \"\"\n      }\n    },\n    {\n      \"column\": \"Main Cast\",\n      \"properties\": {\n        \"dtype\": \"string\",\n        \"num_unique_values\": 3,\n        \"samples\": [\n          \"Brad Pitt, Edward Norton, Helena Bonham Carter\",\n          \"Matt Damon, Robin Williams, Ben Affleck\",\n          \"Leonardo DiCaprio, Joseph Gordon-Levitt, Ellen Page\"\n        ],\n        \"semantic_type\": \"\",\n        \"description\": \"\"\n      }\n    },\n    {\n      \"column\": \"review_length\",\n      \"properties\": {\n        \"dtype\": \"number\",\n        \"std\": 1,\n        \"min\": 56,\n        \"max\": 59,\n        \"num_unique_values\": 3,\n        \"samples\": [\n          59,\n          57,\n          56\n        ],\n        \"semantic_type\": \"\",\n        \"description\": \"\"\n      }\n    },\n    {\n      \"column\": \"cleaned_review\",\n      \"properties\": {\n        \"dtype\": \"string\",\n        \"num_unique_values\": 4,\n        \"samples\": [\n          \"horror movi highli rate love critic\",\n          \"drama movi highli rate love critic\",\n          \"thriller movi highli rate love critic\"\n        ],\n        \"semantic_type\": \"\",\n        \"description\": \"\"\n      }\n    }\n  ]\n}"
            }
          },
          "metadata": {}
        }
      ]
    },
    {
      "source": [
        "## Feature engineering\n",
        "\n",
        "### Subtask:\n",
        "Convert the cleaned text data into numerical features using TF-IDF.\n"
      ],
      "cell_type": "markdown",
      "metadata": {
        "id": "bmq34reE1CJi"
      }
    },
    {
      "source": [
        "**Reasoning**:\n",
        "Convert the cleaned text data into numerical features using TF-IDF, then create a new DataFrame from the TF-IDF matrix and concatenate it with the original DataFrame, dropping the original text columns.\n",
        "\n"
      ],
      "cell_type": "markdown",
      "metadata": {
        "id": "wnqVlbuW1DvY"
      }
    },
    {
      "source": [
        "from sklearn.feature_extraction.text import TfidfVectorizer\n",
        "\n",
        "# Create a TfidfVectorizer object\n",
        "tfidf_vectorizer = TfidfVectorizer(max_features=500, min_df=5)\n",
        "\n",
        "# Fit and transform the cleaned reviews\n",
        "tfidf_matrix = tfidf_vectorizer.fit_transform(df['cleaned_review'])\n",
        "\n",
        "# Convert to dense array\n",
        "tfidf_array = tfidf_matrix.toarray()\n",
        "\n",
        "# Create a new DataFrame from the TF-IDF array\n",
        "tfidf_df = pd.DataFrame(tfidf_array, columns=tfidf_vectorizer.get_feature_names_out())\n",
        "\n",
        "# Concatenate the TF-IDF DataFrame with the original DataFrame and drop the original text columns\n",
        "df = pd.concat([df, tfidf_df], axis=1)\n",
        "df = df.drop(['Review', 'cleaned_review'], axis=1)\n",
        "\n",
        "display(df.head())"
      ],
      "cell_type": "code",
      "metadata": {
        "colab": {
          "base_uri": "https://localhost:8080/",
          "height": 677
        },
        "id": "0ztmlfE11D_V",
        "outputId": "6967d7b6-b748-41f4-8470-bf7f3c68433e"
      },
      "execution_count": 5,
      "outputs": [
        {
          "output_type": "display_data",
          "data": {
            "text/plain": [
              "         Movie Title  Release Year    Genre  Rating           Director  \\\n",
              "0          Inception          1992   Action       8  Quentin Tarantino   \n",
              "1  Avengers: Endgame          2008   Comedy       9  Quentin Tarantino   \n",
              "2         Fight Club          2020  Romance       1       Ridley Scott   \n",
              "3  Good Will Hunting          2012   Action       4       Ridley Scott   \n",
              "4       Forrest Gump          1999   Horror       6   Steven Spielberg   \n",
              "\n",
              "                                           Main Cast  review_length  action  \\\n",
              "0     Brad Pitt, Edward Norton, Helena Bonham Carter             59     0.0   \n",
              "1     Brad Pitt, Edward Norton, Helena Bonham Carter             57     0.0   \n",
              "2            Matt Damon, Robin Williams, Ben Affleck             57     0.0   \n",
              "3  Leonardo DiCaprio, Joseph Gordon-Levitt, Ellen...             59     0.0   \n",
              "4            Matt Damon, Robin Williams, Ben Affleck             56     0.0   \n",
              "\n",
              "   adventur  comedi    critic     drama    highli    horror      love  \\\n",
              "0       0.0     0.0  0.283704  0.000000  0.283704  0.000000  0.283704   \n",
              "1       0.0     0.0  0.276501  0.000000  0.276501  0.785962  0.276501   \n",
              "2       0.0     0.0  0.259953  0.000000  0.259953  0.000000  0.259953   \n",
              "3       0.0     0.0  0.283704  0.000000  0.283704  0.000000  0.283704   \n",
              "4       0.0     0.0  0.272660  0.792642  0.272660  0.000000  0.272660   \n",
              "\n",
              "       movi      rate  romanc     scifi  thriller  \n",
              "0  0.283704  0.283704     0.0  0.000000  0.773021  \n",
              "1  0.276501  0.276501     0.0  0.000000  0.000000  \n",
              "2  0.259953  0.259953     0.0  0.813709  0.000000  \n",
              "3  0.283704  0.283704     0.0  0.000000  0.773021  \n",
              "4  0.272660  0.272660     0.0  0.000000  0.000000  "
            ],
            "text/html": [
              "\n",
              "  <div id=\"df-5299f5b8-05b2-4fb9-a5ab-551e3d590f33\" class=\"colab-df-container\">\n",
              "    <div>\n",
              "<style scoped>\n",
              "    .dataframe tbody tr th:only-of-type {\n",
              "        vertical-align: middle;\n",
              "    }\n",
              "\n",
              "    .dataframe tbody tr th {\n",
              "        vertical-align: top;\n",
              "    }\n",
              "\n",
              "    .dataframe thead th {\n",
              "        text-align: right;\n",
              "    }\n",
              "</style>\n",
              "<table border=\"1\" class=\"dataframe\">\n",
              "  <thead>\n",
              "    <tr style=\"text-align: right;\">\n",
              "      <th></th>\n",
              "      <th>Movie Title</th>\n",
              "      <th>Release Year</th>\n",
              "      <th>Genre</th>\n",
              "      <th>Rating</th>\n",
              "      <th>Director</th>\n",
              "      <th>Main Cast</th>\n",
              "      <th>review_length</th>\n",
              "      <th>action</th>\n",
              "      <th>adventur</th>\n",
              "      <th>comedi</th>\n",
              "      <th>critic</th>\n",
              "      <th>drama</th>\n",
              "      <th>highli</th>\n",
              "      <th>horror</th>\n",
              "      <th>love</th>\n",
              "      <th>movi</th>\n",
              "      <th>rate</th>\n",
              "      <th>romanc</th>\n",
              "      <th>scifi</th>\n",
              "      <th>thriller</th>\n",
              "    </tr>\n",
              "  </thead>\n",
              "  <tbody>\n",
              "    <tr>\n",
              "      <th>0</th>\n",
              "      <td>Inception</td>\n",
              "      <td>1992</td>\n",
              "      <td>Action</td>\n",
              "      <td>8</td>\n",
              "      <td>Quentin Tarantino</td>\n",
              "      <td>Brad Pitt, Edward Norton, Helena Bonham Carter</td>\n",
              "      <td>59</td>\n",
              "      <td>0.0</td>\n",
              "      <td>0.0</td>\n",
              "      <td>0.0</td>\n",
              "      <td>0.283704</td>\n",
              "      <td>0.000000</td>\n",
              "      <td>0.283704</td>\n",
              "      <td>0.000000</td>\n",
              "      <td>0.283704</td>\n",
              "      <td>0.283704</td>\n",
              "      <td>0.283704</td>\n",
              "      <td>0.0</td>\n",
              "      <td>0.000000</td>\n",
              "      <td>0.773021</td>\n",
              "    </tr>\n",
              "    <tr>\n",
              "      <th>1</th>\n",
              "      <td>Avengers: Endgame</td>\n",
              "      <td>2008</td>\n",
              "      <td>Comedy</td>\n",
              "      <td>9</td>\n",
              "      <td>Quentin Tarantino</td>\n",
              "      <td>Brad Pitt, Edward Norton, Helena Bonham Carter</td>\n",
              "      <td>57</td>\n",
              "      <td>0.0</td>\n",
              "      <td>0.0</td>\n",
              "      <td>0.0</td>\n",
              "      <td>0.276501</td>\n",
              "      <td>0.000000</td>\n",
              "      <td>0.276501</td>\n",
              "      <td>0.785962</td>\n",
              "      <td>0.276501</td>\n",
              "      <td>0.276501</td>\n",
              "      <td>0.276501</td>\n",
              "      <td>0.0</td>\n",
              "      <td>0.000000</td>\n",
              "      <td>0.000000</td>\n",
              "    </tr>\n",
              "    <tr>\n",
              "      <th>2</th>\n",
              "      <td>Fight Club</td>\n",
              "      <td>2020</td>\n",
              "      <td>Romance</td>\n",
              "      <td>1</td>\n",
              "      <td>Ridley Scott</td>\n",
              "      <td>Matt Damon, Robin Williams, Ben Affleck</td>\n",
              "      <td>57</td>\n",
              "      <td>0.0</td>\n",
              "      <td>0.0</td>\n",
              "      <td>0.0</td>\n",
              "      <td>0.259953</td>\n",
              "      <td>0.000000</td>\n",
              "      <td>0.259953</td>\n",
              "      <td>0.000000</td>\n",
              "      <td>0.259953</td>\n",
              "      <td>0.259953</td>\n",
              "      <td>0.259953</td>\n",
              "      <td>0.0</td>\n",
              "      <td>0.813709</td>\n",
              "      <td>0.000000</td>\n",
              "    </tr>\n",
              "    <tr>\n",
              "      <th>3</th>\n",
              "      <td>Good Will Hunting</td>\n",
              "      <td>2012</td>\n",
              "      <td>Action</td>\n",
              "      <td>4</td>\n",
              "      <td>Ridley Scott</td>\n",
              "      <td>Leonardo DiCaprio, Joseph Gordon-Levitt, Ellen...</td>\n",
              "      <td>59</td>\n",
              "      <td>0.0</td>\n",
              "      <td>0.0</td>\n",
              "      <td>0.0</td>\n",
              "      <td>0.283704</td>\n",
              "      <td>0.000000</td>\n",
              "      <td>0.283704</td>\n",
              "      <td>0.000000</td>\n",
              "      <td>0.283704</td>\n",
              "      <td>0.283704</td>\n",
              "      <td>0.283704</td>\n",
              "      <td>0.0</td>\n",
              "      <td>0.000000</td>\n",
              "      <td>0.773021</td>\n",
              "    </tr>\n",
              "    <tr>\n",
              "      <th>4</th>\n",
              "      <td>Forrest Gump</td>\n",
              "      <td>1999</td>\n",
              "      <td>Horror</td>\n",
              "      <td>6</td>\n",
              "      <td>Steven Spielberg</td>\n",
              "      <td>Matt Damon, Robin Williams, Ben Affleck</td>\n",
              "      <td>56</td>\n",
              "      <td>0.0</td>\n",
              "      <td>0.0</td>\n",
              "      <td>0.0</td>\n",
              "      <td>0.272660</td>\n",
              "      <td>0.792642</td>\n",
              "      <td>0.272660</td>\n",
              "      <td>0.000000</td>\n",
              "      <td>0.272660</td>\n",
              "      <td>0.272660</td>\n",
              "      <td>0.272660</td>\n",
              "      <td>0.0</td>\n",
              "      <td>0.000000</td>\n",
              "      <td>0.000000</td>\n",
              "    </tr>\n",
              "  </tbody>\n",
              "</table>\n",
              "</div>\n",
              "    <div class=\"colab-df-buttons\">\n",
              "\n",
              "  <div class=\"colab-df-container\">\n",
              "    <button class=\"colab-df-convert\" onclick=\"convertToInteractive('df-5299f5b8-05b2-4fb9-a5ab-551e3d590f33')\"\n",
              "            title=\"Convert this dataframe to an interactive table.\"\n",
              "            style=\"display:none;\">\n",
              "\n",
              "  <svg xmlns=\"http://www.w3.org/2000/svg\" height=\"24px\" viewBox=\"0 -960 960 960\">\n",
              "    <path d=\"M120-120v-720h720v720H120Zm60-500h600v-160H180v160Zm220 220h160v-160H400v160Zm0 220h160v-160H400v160ZM180-400h160v-160H180v160Zm440 0h160v-160H620v160ZM180-180h160v-160H180v160Zm440 0h160v-160H620v160Z\"/>\n",
              "  </svg>\n",
              "    </button>\n",
              "\n",
              "  <style>\n",
              "    .colab-df-container {\n",
              "      display:flex;\n",
              "      gap: 12px;\n",
              "    }\n",
              "\n",
              "    .colab-df-convert {\n",
              "      background-color: #E8F0FE;\n",
              "      border: none;\n",
              "      border-radius: 50%;\n",
              "      cursor: pointer;\n",
              "      display: none;\n",
              "      fill: #1967D2;\n",
              "      height: 32px;\n",
              "      padding: 0 0 0 0;\n",
              "      width: 32px;\n",
              "    }\n",
              "\n",
              "    .colab-df-convert:hover {\n",
              "      background-color: #E2EBFA;\n",
              "      box-shadow: 0px 1px 2px rgba(60, 64, 67, 0.3), 0px 1px 3px 1px rgba(60, 64, 67, 0.15);\n",
              "      fill: #174EA6;\n",
              "    }\n",
              "\n",
              "    .colab-df-buttons div {\n",
              "      margin-bottom: 4px;\n",
              "    }\n",
              "\n",
              "    [theme=dark] .colab-df-convert {\n",
              "      background-color: #3B4455;\n",
              "      fill: #D2E3FC;\n",
              "    }\n",
              "\n",
              "    [theme=dark] .colab-df-convert:hover {\n",
              "      background-color: #434B5C;\n",
              "      box-shadow: 0px 1px 3px 1px rgba(0, 0, 0, 0.15);\n",
              "      filter: drop-shadow(0px 1px 2px rgba(0, 0, 0, 0.3));\n",
              "      fill: #FFFFFF;\n",
              "    }\n",
              "  </style>\n",
              "\n",
              "    <script>\n",
              "      const buttonEl =\n",
              "        document.querySelector('#df-5299f5b8-05b2-4fb9-a5ab-551e3d590f33 button.colab-df-convert');\n",
              "      buttonEl.style.display =\n",
              "        google.colab.kernel.accessAllowed ? 'block' : 'none';\n",
              "\n",
              "      async function convertToInteractive(key) {\n",
              "        const element = document.querySelector('#df-5299f5b8-05b2-4fb9-a5ab-551e3d590f33');\n",
              "        const dataTable =\n",
              "          await google.colab.kernel.invokeFunction('convertToInteractive',\n",
              "                                                    [key], {});\n",
              "        if (!dataTable) return;\n",
              "\n",
              "        const docLinkHtml = 'Like what you see? Visit the ' +\n",
              "          '<a target=\"_blank\" href=https://colab.research.google.com/notebooks/data_table.ipynb>data table notebook</a>'\n",
              "          + ' to learn more about interactive tables.';\n",
              "        element.innerHTML = '';\n",
              "        dataTable['output_type'] = 'display_data';\n",
              "        await google.colab.output.renderOutput(dataTable, element);\n",
              "        const docLink = document.createElement('div');\n",
              "        docLink.innerHTML = docLinkHtml;\n",
              "        element.appendChild(docLink);\n",
              "      }\n",
              "    </script>\n",
              "  </div>\n",
              "\n",
              "\n",
              "<div id=\"df-57f7982a-22c8-4167-83f6-cd44a892c01c\">\n",
              "  <button class=\"colab-df-quickchart\" onclick=\"quickchart('df-57f7982a-22c8-4167-83f6-cd44a892c01c')\"\n",
              "            title=\"Suggest charts\"\n",
              "            style=\"display:none;\">\n",
              "\n",
              "<svg xmlns=\"http://www.w3.org/2000/svg\" height=\"24px\"viewBox=\"0 0 24 24\"\n",
              "     width=\"24px\">\n",
              "    <g>\n",
              "        <path d=\"M19 3H5c-1.1 0-2 .9-2 2v14c0 1.1.9 2 2 2h14c1.1 0 2-.9 2-2V5c0-1.1-.9-2-2-2zM9 17H7v-7h2v7zm4 0h-2V7h2v10zm4 0h-2v-4h2v4z\"/>\n",
              "    </g>\n",
              "</svg>\n",
              "  </button>\n",
              "\n",
              "<style>\n",
              "  .colab-df-quickchart {\n",
              "      --bg-color: #E8F0FE;\n",
              "      --fill-color: #1967D2;\n",
              "      --hover-bg-color: #E2EBFA;\n",
              "      --hover-fill-color: #174EA6;\n",
              "      --disabled-fill-color: #AAA;\n",
              "      --disabled-bg-color: #DDD;\n",
              "  }\n",
              "\n",
              "  [theme=dark] .colab-df-quickchart {\n",
              "      --bg-color: #3B4455;\n",
              "      --fill-color: #D2E3FC;\n",
              "      --hover-bg-color: #434B5C;\n",
              "      --hover-fill-color: #FFFFFF;\n",
              "      --disabled-bg-color: #3B4455;\n",
              "      --disabled-fill-color: #666;\n",
              "  }\n",
              "\n",
              "  .colab-df-quickchart {\n",
              "    background-color: var(--bg-color);\n",
              "    border: none;\n",
              "    border-radius: 50%;\n",
              "    cursor: pointer;\n",
              "    display: none;\n",
              "    fill: var(--fill-color);\n",
              "    height: 32px;\n",
              "    padding: 0;\n",
              "    width: 32px;\n",
              "  }\n",
              "\n",
              "  .colab-df-quickchart:hover {\n",
              "    background-color: var(--hover-bg-color);\n",
              "    box-shadow: 0 1px 2px rgba(60, 64, 67, 0.3), 0 1px 3px 1px rgba(60, 64, 67, 0.15);\n",
              "    fill: var(--button-hover-fill-color);\n",
              "  }\n",
              "\n",
              "  .colab-df-quickchart-complete:disabled,\n",
              "  .colab-df-quickchart-complete:disabled:hover {\n",
              "    background-color: var(--disabled-bg-color);\n",
              "    fill: var(--disabled-fill-color);\n",
              "    box-shadow: none;\n",
              "  }\n",
              "\n",
              "  .colab-df-spinner {\n",
              "    border: 2px solid var(--fill-color);\n",
              "    border-color: transparent;\n",
              "    border-bottom-color: var(--fill-color);\n",
              "    animation:\n",
              "      spin 1s steps(1) infinite;\n",
              "  }\n",
              "\n",
              "  @keyframes spin {\n",
              "    0% {\n",
              "      border-color: transparent;\n",
              "      border-bottom-color: var(--fill-color);\n",
              "      border-left-color: var(--fill-color);\n",
              "    }\n",
              "    20% {\n",
              "      border-color: transparent;\n",
              "      border-left-color: var(--fill-color);\n",
              "      border-top-color: var(--fill-color);\n",
              "    }\n",
              "    30% {\n",
              "      border-color: transparent;\n",
              "      border-left-color: var(--fill-color);\n",
              "      border-top-color: var(--fill-color);\n",
              "      border-right-color: var(--fill-color);\n",
              "    }\n",
              "    40% {\n",
              "      border-color: transparent;\n",
              "      border-right-color: var(--fill-color);\n",
              "      border-top-color: var(--fill-color);\n",
              "    }\n",
              "    60% {\n",
              "      border-color: transparent;\n",
              "      border-right-color: var(--fill-color);\n",
              "    }\n",
              "    80% {\n",
              "      border-color: transparent;\n",
              "      border-right-color: var(--fill-color);\n",
              "      border-bottom-color: var(--fill-color);\n",
              "    }\n",
              "    90% {\n",
              "      border-color: transparent;\n",
              "      border-bottom-color: var(--fill-color);\n",
              "    }\n",
              "  }\n",
              "</style>\n",
              "\n",
              "  <script>\n",
              "    async function quickchart(key) {\n",
              "      const quickchartButtonEl =\n",
              "        document.querySelector('#' + key + ' button');\n",
              "      quickchartButtonEl.disabled = true;  // To prevent multiple clicks.\n",
              "      quickchartButtonEl.classList.add('colab-df-spinner');\n",
              "      try {\n",
              "        const charts = await google.colab.kernel.invokeFunction(\n",
              "            'suggestCharts', [key], {});\n",
              "      } catch (error) {\n",
              "        console.error('Error during call to suggestCharts:', error);\n",
              "      }\n",
              "      quickchartButtonEl.classList.remove('colab-df-spinner');\n",
              "      quickchartButtonEl.classList.add('colab-df-quickchart-complete');\n",
              "    }\n",
              "    (() => {\n",
              "      let quickchartButtonEl =\n",
              "        document.querySelector('#df-57f7982a-22c8-4167-83f6-cd44a892c01c button');\n",
              "      quickchartButtonEl.style.display =\n",
              "        google.colab.kernel.accessAllowed ? 'block' : 'none';\n",
              "    })();\n",
              "  </script>\n",
              "</div>\n",
              "\n",
              "    </div>\n",
              "  </div>\n"
            ],
            "application/vnd.google.colaboratory.intrinsic+json": {
              "type": "dataframe",
              "summary": "{\n  \"name\": \"display(df\",\n  \"rows\": 5,\n  \"fields\": [\n    {\n      \"column\": \"Movie Title\",\n      \"properties\": {\n        \"dtype\": \"string\",\n        \"num_unique_values\": 5,\n        \"samples\": [\n          \"Avengers: Endgame\",\n          \"Forrest Gump\",\n          \"Fight Club\"\n        ],\n        \"semantic_type\": \"\",\n        \"description\": \"\"\n      }\n    },\n    {\n      \"column\": \"Release Year\",\n      \"properties\": {\n        \"dtype\": \"number\",\n        \"std\": 10,\n        \"min\": 1992,\n        \"max\": 2020,\n        \"num_unique_values\": 5,\n        \"samples\": [\n          2008,\n          1999,\n          2020\n        ],\n        \"semantic_type\": \"\",\n        \"description\": \"\"\n      }\n    },\n    {\n      \"column\": \"Genre\",\n      \"properties\": {\n        \"dtype\": \"string\",\n        \"num_unique_values\": 4,\n        \"samples\": [\n          \"Comedy\",\n          \"Horror\",\n          \"Action\"\n        ],\n        \"semantic_type\": \"\",\n        \"description\": \"\"\n      }\n    },\n    {\n      \"column\": \"Rating\",\n      \"properties\": {\n        \"dtype\": \"number\",\n        \"std\": 3,\n        \"min\": 1,\n        \"max\": 9,\n        \"num_unique_values\": 5,\n        \"samples\": [\n          9,\n          6,\n          1\n        ],\n        \"semantic_type\": \"\",\n        \"description\": \"\"\n      }\n    },\n    {\n      \"column\": \"Director\",\n      \"properties\": {\n        \"dtype\": \"string\",\n        \"num_unique_values\": 3,\n        \"samples\": [\n          \"Quentin Tarantino\",\n          \"Ridley Scott\",\n          \"Steven Spielberg\"\n        ],\n        \"semantic_type\": \"\",\n        \"description\": \"\"\n      }\n    },\n    {\n      \"column\": \"Main Cast\",\n      \"properties\": {\n        \"dtype\": \"string\",\n        \"num_unique_values\": 3,\n        \"samples\": [\n          \"Brad Pitt, Edward Norton, Helena Bonham Carter\",\n          \"Matt Damon, Robin Williams, Ben Affleck\",\n          \"Leonardo DiCaprio, Joseph Gordon-Levitt, Ellen Page\"\n        ],\n        \"semantic_type\": \"\",\n        \"description\": \"\"\n      }\n    },\n    {\n      \"column\": \"review_length\",\n      \"properties\": {\n        \"dtype\": \"number\",\n        \"std\": 1,\n        \"min\": 56,\n        \"max\": 59,\n        \"num_unique_values\": 3,\n        \"samples\": [\n          59,\n          57,\n          56\n        ],\n        \"semantic_type\": \"\",\n        \"description\": \"\"\n      }\n    },\n    {\n      \"column\": \"action\",\n      \"properties\": {\n        \"dtype\": \"number\",\n        \"std\": 0.0,\n        \"min\": 0.0,\n        \"max\": 0.0,\n        \"num_unique_values\": 1,\n        \"samples\": [\n          0.0\n        ],\n        \"semantic_type\": \"\",\n        \"description\": \"\"\n      }\n    },\n    {\n      \"column\": \"adventur\",\n      \"properties\": {\n        \"dtype\": \"number\",\n        \"std\": 0.0,\n        \"min\": 0.0,\n        \"max\": 0.0,\n        \"num_unique_values\": 1,\n        \"samples\": [\n          0.0\n        ],\n        \"semantic_type\": \"\",\n        \"description\": \"\"\n      }\n    },\n    {\n      \"column\": \"comedi\",\n      \"properties\": {\n        \"dtype\": \"number\",\n        \"std\": 0.0,\n        \"min\": 0.0,\n        \"max\": 0.0,\n        \"num_unique_values\": 1,\n        \"samples\": [\n          0.0\n        ],\n        \"semantic_type\": \"\",\n        \"description\": \"\"\n      }\n    },\n    {\n      \"column\": \"critic\",\n      \"properties\": {\n        \"dtype\": \"number\",\n        \"std\": 0.009812975917957928,\n        \"min\": 0.25995308965421954,\n        \"max\": 0.2837035745813086,\n        \"num_unique_values\": 4,\n        \"samples\": [\n          0.2765007691744219\n        ],\n        \"semantic_type\": \"\",\n        \"description\": \"\"\n      }\n    },\n    {\n      \"column\": \"drama\",\n      \"properties\": {\n        \"dtype\": \"number\",\n        \"std\": 0.3544804714280134,\n        \"min\": 0.0,\n        \"max\": 0.79264243080921,\n        \"num_unique_values\": 2,\n        \"samples\": [\n          0.79264243080921\n        ],\n        \"semantic_type\": \"\",\n        \"description\": \"\"\n      }\n    },\n    {\n      \"column\": \"highli\",\n      \"properties\": {\n        \"dtype\": \"number\",\n        \"std\": 0.009812975917957928,\n        \"min\": 0.25995308965421954,\n        \"max\": 0.2837035745813086,\n        \"num_unique_values\": 4,\n        \"samples\": [\n          0.2765007691744219\n        ],\n        \"semantic_type\": \"\",\n        \"description\": \"\"\n      }\n    },\n    {\n      \"column\": \"horror\",\n      \"properties\": {\n        \"dtype\": \"number\",\n        \"std\": 0.3514929937366506,\n        \"min\": 0.0,\n        \"max\": 0.7859622276100585,\n        \"num_unique_values\": 2,\n        \"samples\": [\n          0.7859622276100585\n        ],\n        \"semantic_type\": \"\",\n        \"description\": \"\"\n      }\n    },\n    {\n      \"column\": \"love\",\n      \"properties\": {\n        \"dtype\": \"number\",\n        \"std\": 0.009812975917957928,\n        \"min\": 0.25995308965421954,\n        \"max\": 0.2837035745813086,\n        \"num_unique_values\": 4,\n        \"samples\": [\n          0.2765007691744219\n        ],\n        \"semantic_type\": \"\",\n        \"description\": \"\"\n      }\n    },\n    {\n      \"column\": \"movi\",\n      \"properties\": {\n        \"dtype\": \"number\",\n        \"std\": 0.009812975917957928,\n        \"min\": 0.25995308965421954,\n        \"max\": 0.2837035745813086,\n        \"num_unique_values\": 4,\n        \"samples\": [\n          0.2765007691744219\n        ],\n        \"semantic_type\": \"\",\n        \"description\": \"\"\n      }\n    },\n    {\n      \"column\": \"rate\",\n      \"properties\": {\n        \"dtype\": \"number\",\n        \"std\": 0.009812975917957928,\n        \"min\": 0.25995308965421954,\n        \"max\": 0.2837035745813086,\n        \"num_unique_values\": 4,\n        \"samples\": [\n          0.2765007691744219\n        ],\n        \"semantic_type\": \"\",\n        \"description\": \"\"\n      }\n    },\n    {\n      \"column\": \"romanc\",\n      \"properties\": {\n        \"dtype\": \"number\",\n        \"std\": 0.0,\n        \"min\": 0.0,\n        \"max\": 0.0,\n        \"num_unique_values\": 1,\n        \"samples\": [\n          0.0\n        ],\n        \"semantic_type\": \"\",\n        \"description\": \"\"\n      }\n    },\n    {\n      \"column\": \"scifi\",\n      \"properties\": {\n        \"dtype\": \"number\",\n        \"std\": 0.3639016229411807,\n        \"min\": 0.0,\n        \"max\": 0.8137087660189771,\n        \"num_unique_values\": 2,\n        \"samples\": [\n          0.8137087660189771\n        ],\n        \"semantic_type\": \"\",\n        \"description\": \"\"\n      }\n    },\n    {\n      \"column\": \"thriller\",\n      \"properties\": {\n        \"dtype\": \"number\",\n        \"std\": 0.423401018721828,\n        \"min\": 0.0,\n        \"max\": 0.7730209627487078,\n        \"num_unique_values\": 2,\n        \"samples\": [\n          0.0\n        ],\n        \"semantic_type\": \"\",\n        \"description\": \"\"\n      }\n    }\n  ]\n}"
            }
          },
          "metadata": {}
        }
      ]
    },
    {
      "source": [
        "## Data splitting\n",
        "\n",
        "### Subtask:\n",
        "Split the data into training, validation, and testing sets.\n"
      ],
      "cell_type": "markdown",
      "metadata": {
        "id": "ket0QYaH1IBe"
      }
    },
    {
      "source": [
        "**Reasoning**:\n",
        "Split the data into training, validation, and testing sets using train_test_split.\n",
        "\n"
      ],
      "cell_type": "markdown",
      "metadata": {
        "id": "PW1vL1-z1I5o"
      }
    },
    {
      "source": [
        "**Reasoning**:\n",
        "The error message indicates that at least one class in the target variable `y` has only one member, which is insufficient for stratified splitting.  I need to examine the distribution of rating values to understand the issue. I will then try the split again without stratification.\n",
        "\n"
      ],
      "cell_type": "markdown",
      "metadata": {
        "id": "vHNDy4uM1LPn"
      }
    },
    {
      "source": [
        "# Check the distribution of ratings\n",
        "print(df['Rating'].value_counts())\n",
        "\n",
        "# Retry the split without stratification\n",
        "X = df.drop('Rating', axis=1)\n",
        "y = df['Rating']\n",
        "\n",
        "# Split data into training and temporary sets (85% train, 15% temp)\n",
        "X_train, X_temp, y_train, y_temp = train_test_split(\n",
        "    X, y, test_size=0.15, random_state=42\n",
        ")\n",
        "\n",
        "# Split the temporary set into validation and testing sets (50% val, 50% test)\n",
        "X_val, X_test, y_val, y_test = train_test_split(\n",
        "    X_temp, y_temp, test_size=0.5, random_state=42\n",
        ")\n",
        "\n",
        "print(\"X_train shape:\", X_train.shape)\n",
        "print(\"y_train shape:\", y_train.shape)\n",
        "print(\"X_val shape:\", X_val.shape)\n",
        "print(\"y_val shape:\", y_val.shape)\n",
        "print(\"X_test shape:\", X_test.shape)\n",
        "print(\"y_test shape:\", y_test.shape)"
      ],
      "cell_type": "code",
      "metadata": {
        "colab": {
          "base_uri": "https://localhost:8080/"
        },
        "id": "HKuS9scz1Lfe",
        "outputId": "8e63e962-2270-4ea8-ca79-fafa61fd1c32"
      },
      "execution_count": 7,
      "outputs": [
        {
          "output_type": "stream",
          "name": "stdout",
          "text": [
            "Rating\n",
            "8     13\n",
            "6     13\n",
            "7     13\n",
            "4     11\n",
            "10    10\n",
            "1      9\n",
            "5      9\n",
            "3      9\n",
            "2      8\n",
            "9      5\n",
            "Name: count, dtype: int64\n",
            "X_train shape: (85, 19)\n",
            "y_train shape: (85,)\n",
            "X_val shape: (7, 19)\n",
            "y_val shape: (7,)\n",
            "X_test shape: (8, 19)\n",
            "y_test shape: (8,)\n"
          ]
        }
      ]
    },
    {
      "source": [
        "## Model training\n",
        "\n",
        "### Subtask:\n",
        "Train a Logistic Regression model for sentiment analysis.\n"
      ],
      "cell_type": "markdown",
      "metadata": {
        "id": "QoLprbMf1QCC"
      }
    },
    {
      "source": [
        "**Reasoning**:\n",
        "Train a Logistic Regression model on the training data, make predictions on the validation set, and evaluate the model's performance.\n",
        "\n"
      ],
      "cell_type": "markdown",
      "metadata": {
        "id": "qDkFHWOD1Q8v"
      }
    },
    {
      "source": [
        "from sklearn.linear_model import LogisticRegression\n",
        "from sklearn.metrics import accuracy_score, f1_score\n",
        "\n",
        "# Instantiate a Logistic Regression model\n",
        "logreg_model = LogisticRegression(max_iter=1000)\n",
        "\n",
        "# Train the model\n",
        "logreg_model.fit(X_train.drop(['Movie Title', 'Genre', 'Director', 'Main Cast'], axis=1), y_train)\n",
        "\n",
        "# Make predictions on the validation set\n",
        "y_pred = logreg_model.predict(X_val.drop(['Movie Title', 'Genre', 'Director', 'Main Cast'], axis=1))\n",
        "\n",
        "# Evaluate the model\n",
        "accuracy = accuracy_score(y_val, y_pred)\n",
        "f1 = f1_score(y_val, y_pred, average='weighted')  # Use weighted F1 for multi-class\n",
        "\n",
        "print(f\"Accuracy: {accuracy}\")\n",
        "print(f\"F1 Score: {f1}\")"
      ],
      "cell_type": "code",
      "metadata": {
        "colab": {
          "base_uri": "https://localhost:8080/"
        },
        "id": "Iv74x50Z1RMk",
        "outputId": "327331eb-d79e-460d-9ad7-d9b9a833296e"
      },
      "execution_count": 8,
      "outputs": [
        {
          "output_type": "stream",
          "name": "stdout",
          "text": [
            "Accuracy: 0.0\n",
            "F1 Score: 0.0\n"
          ]
        },
        {
          "output_type": "stream",
          "name": "stderr",
          "text": [
            "/usr/local/lib/python3.11/dist-packages/sklearn/linear_model/_logistic.py:465: ConvergenceWarning: lbfgs failed to converge (status=1):\n",
            "STOP: TOTAL NO. of ITERATIONS REACHED LIMIT.\n",
            "\n",
            "Increase the number of iterations (max_iter) or scale the data as shown in:\n",
            "    https://scikit-learn.org/stable/modules/preprocessing.html\n",
            "Please also refer to the documentation for alternative solver options:\n",
            "    https://scikit-learn.org/stable/modules/linear_model.html#logistic-regression\n",
            "  n_iter_i = _check_optimize_result(\n"
          ]
        }
      ]
    },
    {
      "source": [
        "**Reasoning**:\n",
        "The previous code encountered a convergence warning.  I will try to address this by scaling the data using StandardScaler before training the model.\n",
        "\n"
      ],
      "cell_type": "markdown",
      "metadata": {
        "id": "WOqIPb5z1Uui"
      }
    },
    {
      "source": [
        "from sklearn.preprocessing import StandardScaler\n",
        "from sklearn.linear_model import LogisticRegression\n",
        "from sklearn.metrics import accuracy_score, f1_score\n",
        "\n",
        "# Scale the data\n",
        "scaler = StandardScaler()\n",
        "X_train_scaled = scaler.fit_transform(X_train.drop(['Movie Title', 'Genre', 'Director', 'Main Cast'], axis=1))\n",
        "X_val_scaled = scaler.transform(X_val.drop(['Movie Title', 'Genre', 'Director', 'Main Cast'], axis=1))\n",
        "\n",
        "# Instantiate and train a Logistic Regression model\n",
        "logreg_model = LogisticRegression(max_iter=10000)\n",
        "logreg_model.fit(X_train_scaled, y_train)\n",
        "\n",
        "# Make predictions on the scaled validation set\n",
        "y_pred = logreg_model.predict(X_val_scaled)\n",
        "\n",
        "# Evaluate the model\n",
        "accuracy = accuracy_score(y_val, y_pred)\n",
        "f1 = f1_score(y_val, y_pred, average='weighted')\n",
        "\n",
        "print(f\"Accuracy: {accuracy}\")\n",
        "print(f\"F1 Score: {f1}\")"
      ],
      "cell_type": "code",
      "metadata": {
        "colab": {
          "base_uri": "https://localhost:8080/"
        },
        "id": "MaaKNhB11U-R",
        "outputId": "d35aa0ca-9dfc-410b-b588-fb4830bd55fd"
      },
      "execution_count": 9,
      "outputs": [
        {
          "output_type": "stream",
          "name": "stdout",
          "text": [
            "Accuracy: 0.0\n",
            "F1 Score: 0.0\n"
          ]
        }
      ]
    },
    {
      "source": [
        "**Reasoning**:\n",
        "The model is still performing poorly.  I'll try a different approach: using only numerical features, and trying different solvers.  I'll also check for any issues with the target variable.\n",
        "\n"
      ],
      "cell_type": "markdown",
      "metadata": {
        "id": "7HbPM-KI1abK"
      }
    },
    {
      "source": [
        "from sklearn.linear_model import LogisticRegression\n",
        "from sklearn.metrics import accuracy_score, f1_score\n",
        "import numpy as np\n",
        "\n",
        "# Select only numerical features\n",
        "numerical_features = ['Release Year', 'review_length', 'action', 'adventur', 'comedi', 'critic', 'drama', 'highli', 'horror', 'love', 'movi', 'rate', 'romanc', 'scifi', 'thriller']\n",
        "X_train_num = X_train[numerical_features]\n",
        "X_val_num = X_val[numerical_features]\n",
        "\n",
        "# Check for unique values in y_train and y_val to identify any issues\n",
        "print(f\"Unique values in y_train: {np.unique(y_train)}\")\n",
        "print(f\"Unique values in y_val: {np.unique(y_val)}\")\n",
        "\n",
        "# Train a Logistic Regression model with different solvers\n",
        "for solver in ['newton-cg', 'lbfgs', 'liblinear', 'sag', 'saga']:\n",
        "    try:\n",
        "        logreg_model = LogisticRegression(solver=solver, max_iter=10000)\n",
        "        logreg_model.fit(X_train_num, y_train)\n",
        "        y_pred = logreg_model.predict(X_val_num)\n",
        "        accuracy = accuracy_score(y_val, y_pred)\n",
        "        f1 = f1_score(y_val, y_pred, average='weighted')\n",
        "        print(f\"Solver: {solver}, Accuracy: {accuracy}, F1 Score: {f1}\")\n",
        "    except Exception as e:\n",
        "        print(f\"Solver: {solver} failed with error: {e}\")"
      ],
      "cell_type": "code",
      "metadata": {
        "colab": {
          "base_uri": "https://localhost:8080/"
        },
        "id": "BoLqg0Uo1arG",
        "outputId": "872545ab-086e-4a36-eaea-3f33b4b44532"
      },
      "execution_count": 10,
      "outputs": [
        {
          "output_type": "stream",
          "name": "stdout",
          "text": [
            "Unique values in y_train: [ 1  2  3  4  5  6  7  8  9 10]\n",
            "Unique values in y_val: [ 3  5  8 10]\n",
            "Solver: newton-cg, Accuracy: 0.0, F1 Score: 0.0\n",
            "Solver: lbfgs, Accuracy: 0.0, F1 Score: 0.0\n",
            "Solver: liblinear, Accuracy: 0.0, F1 Score: 0.0\n",
            "Solver: sag, Accuracy: 0.0, F1 Score: 0.0\n",
            "Solver: saga, Accuracy: 0.0, F1 Score: 0.0\n"
          ]
        }
      ]
    },
    {
      "source": [
        "**Reasoning**:\n",
        "The model performance is still very poor.  I suspect there might be an issue with the data itself or the way the features are represented.  I'll print the first few rows of the training and validation data to examine them more closely.\n",
        "\n"
      ],
      "cell_type": "markdown",
      "metadata": {
        "id": "iuaPzqzI1hKE"
      }
    },
    {
      "source": [
        "print(\"X_train head:\")\n",
        "print(X_train.head())\n",
        "print(\"\\nX_val head:\")\n",
        "print(X_val.head())\n",
        "print(\"\\ny_train head:\")\n",
        "print(y_train.head())\n",
        "print(\"\\ny_val head:\")\n",
        "print(y_val.head())"
      ],
      "cell_type": "code",
      "metadata": {
        "colab": {
          "base_uri": "https://localhost:8080/"
        },
        "id": "r52_nko71hZy",
        "outputId": "10d39258-9080-453b-acb8-8bb397c9ec5d"
      },
      "execution_count": 11,
      "outputs": [
        {
          "output_type": "stream",
          "name": "stdout",
          "text": [
            "X_train head:\n",
            "                 Movie Title  Release Year      Genre           Director  \\\n",
            "4               Forrest Gump          1999     Horror   Steven Spielberg   \n",
            "76        The Usual Suspects          2002  Adventure   Steven Spielberg   \n",
            "77  The Grand Budapest Hotel          2017  Adventure   Steven Spielberg   \n",
            "12             The Godfather          2013     Action       Ridley Scott   \n",
            "31              Forrest Gump          2001  Adventure  Christopher Nolan   \n",
            "\n",
            "                                         Main Cast  review_length    action  \\\n",
            "4          Matt Damon, Robin Williams, Ben Affleck             56  0.000000   \n",
            "76            Tom Hanks, Robin Wright, Gary Sinise             57  0.828836   \n",
            "77            Tom Hanks, Robin Wright, Gary Sinise             57  0.000000   \n",
            "12            Tom Hanks, Robin Wright, Gary Sinise             59  0.000000   \n",
            "31  Brad Pitt, Edward Norton, Helena Bonham Carter             57  0.000000   \n",
            "\n",
            "    adventur    comedi    critic     drama    highli    horror      love  \\\n",
            "4        0.0  0.000000  0.272660  0.792642  0.272660  0.000000  0.272660   \n",
            "76       0.0  0.000000  0.250212  0.000000  0.250212  0.000000  0.250212   \n",
            "77       0.0  0.821145  0.255234  0.000000  0.255234  0.000000  0.255234   \n",
            "12       0.0  0.000000  0.283704  0.000000  0.283704  0.000000  0.283704   \n",
            "31       0.0  0.000000  0.276501  0.000000  0.276501  0.785962  0.276501   \n",
            "\n",
            "        movi      rate  romanc  scifi  thriller  \n",
            "4   0.272660  0.272660     0.0    0.0  0.000000  \n",
            "76  0.250212  0.250212     0.0    0.0  0.000000  \n",
            "77  0.255234  0.255234     0.0    0.0  0.000000  \n",
            "12  0.283704  0.283704     0.0    0.0  0.773021  \n",
            "31  0.276501  0.276501     0.0    0.0  0.000000  \n",
            "\n",
            "X_val head:\n",
            "                                          Movie Title  Release Year  \\\n",
            "90                                       Pulp Fiction          2002   \n",
            "44  The Lord of the Rings: The Fellowship of the Ring          1997   \n",
            "80                                   Django Unchained          2019   \n",
            "18                                 The Social Network          1993   \n",
            "73                                             Avatar          2022   \n",
            "\n",
            "        Genre           Director  \\\n",
            "90  Adventure    Martin Scorsese   \n",
            "44  Adventure   Steven Spielberg   \n",
            "80     Action       Ridley Scott   \n",
            "18      Drama    Martin Scorsese   \n",
            "73     Action  Quentin Tarantino   \n",
            "\n",
            "                                            Main Cast  review_length  action  \\\n",
            "90               Tom Hanks, Robin Wright, Gary Sinise             58     0.0   \n",
            "44  Leonardo DiCaprio, Joseph Gordon-Levitt, Ellen...             59     0.0   \n",
            "80            Matt Damon, Robin Williams, Ben Affleck             57     0.0   \n",
            "18     Brad Pitt, Edward Norton, Helena Bonham Carter             60     0.0   \n",
            "73            Matt Damon, Robin Williams, Ben Affleck             57     0.0   \n",
            "\n",
            "    adventur    comedi    critic  drama    highli  horror      love      movi  \\\n",
            "90  0.000000  0.000000  0.255234    0.0  0.255234     0.0  0.255234  0.255234   \n",
            "44  0.000000  0.000000  0.283704    0.0  0.283704     0.0  0.283704  0.283704   \n",
            "80  0.000000  0.821145  0.255234    0.0  0.255234     0.0  0.255234  0.255234   \n",
            "18  0.792642  0.000000  0.272660    0.0  0.272660     0.0  0.272660  0.272660   \n",
            "73  0.000000  0.821145  0.255234    0.0  0.255234     0.0  0.255234  0.255234   \n",
            "\n",
            "        rate    romanc  scifi  thriller  \n",
            "90  0.255234  0.821145    0.0  0.000000  \n",
            "44  0.283704  0.000000    0.0  0.773021  \n",
            "80  0.255234  0.000000    0.0  0.000000  \n",
            "18  0.272660  0.000000    0.0  0.000000  \n",
            "73  0.255234  0.000000    0.0  0.000000  \n",
            "\n",
            "y_train head:\n",
            "4      6\n",
            "76     8\n",
            "77     2\n",
            "12    10\n",
            "31     1\n",
            "Name: Rating, dtype: int64\n",
            "\n",
            "y_val head:\n",
            "90    8\n",
            "44    3\n",
            "80    5\n",
            "18    3\n",
            "73    5\n",
            "Name: Rating, dtype: int64\n"
          ]
        }
      ]
    },
    {
      "source": [
        "## Model training\n",
        "\n",
        "### Subtask:\n",
        "Train a Logistic Regression model for sentiment analysis.\n"
      ],
      "cell_type": "markdown",
      "metadata": {
        "id": "JrCI5LVI1uCl"
      }
    },
    {
      "source": [
        "**Reasoning**:\n",
        "Inspect the target variable `y_train` and `y_val`, address data imbalance if any, select numerical features, and retrain the model with different solvers.\n",
        "\n"
      ],
      "cell_type": "markdown",
      "metadata": {
        "id": "zP2cTHdo1u7D"
      }
    },
    {
      "source": [
        "import numpy as np\n",
        "from sklearn.linear_model import LogisticRegression\n",
        "from sklearn.metrics import accuracy_score, f1_score\n",
        "\n",
        "# Check for unique values in y_train and y_val to identify any issues\n",
        "print(f\"Unique values in y_train: {np.unique(y_train)}\")\n",
        "print(f\"Unique values in y_val: {np.unique(y_val)}\")\n",
        "\n",
        "# Select only numerical features\n",
        "numerical_features = ['Release Year', 'review_length', 'action', 'adventur', 'comedi', 'critic', 'drama', 'highli', 'horror', 'love', 'movi', 'rate', 'romanc', 'scifi', 'thriller']\n",
        "X_train_num = X_train[numerical_features]\n",
        "X_val_num = X_val[numerical_features]\n",
        "\n",
        "# Train a Logistic Regression model with different solvers\n",
        "for solver in ['newton-cg', 'lbfgs', 'liblinear', 'sag', 'saga']:\n",
        "    try:\n",
        "        logreg_model = LogisticRegression(solver=solver, max_iter=10000)\n",
        "        logreg_model.fit(X_train_num, y_train)\n",
        "        y_pred = logreg_model.predict(X_val_num)\n",
        "        accuracy = accuracy_score(y_val, y_pred)\n",
        "        f1 = f1_score(y_val, y_pred, average='weighted')\n",
        "        print(f\"Solver: {solver}, Accuracy: {accuracy}, F1 Score: {f1}\")\n",
        "    except Exception as e:\n",
        "        print(f\"Solver: {solver} failed with error: {e}\")"
      ],
      "cell_type": "code",
      "metadata": {
        "colab": {
          "base_uri": "https://localhost:8080/"
        },
        "id": "j3SxRjhT1vKw",
        "outputId": "51109a01-b89a-4fdc-c92e-e0df0e2d23af"
      },
      "execution_count": 12,
      "outputs": [
        {
          "output_type": "stream",
          "name": "stdout",
          "text": [
            "Unique values in y_train: [ 1  2  3  4  5  6  7  8  9 10]\n",
            "Unique values in y_val: [ 3  5  8 10]\n",
            "Solver: newton-cg, Accuracy: 0.0, F1 Score: 0.0\n",
            "Solver: lbfgs, Accuracy: 0.0, F1 Score: 0.0\n",
            "Solver: liblinear, Accuracy: 0.0, F1 Score: 0.0\n",
            "Solver: sag, Accuracy: 0.0, F1 Score: 0.0\n",
            "Solver: saga, Accuracy: 0.0, F1 Score: 0.0\n"
          ]
        }
      ]
    },
    {
      "source": [
        "**Reasoning**:\n",
        "The previous attempt to train the model failed. The target variable `y_val` only contains a small subset of the values present in `y_train`.  Let's try to understand the data and features better.\n",
        "\n"
      ],
      "cell_type": "markdown",
      "metadata": {
        "id": "qdKwHwRI1yG2"
      }
    },
    {
      "source": [
        "print(\"X_train head:\")\n",
        "print(X_train.head())\n",
        "print(\"\\nX_val head:\")\n",
        "print(X_val.head())\n",
        "print(\"\\ny_train head:\")\n",
        "print(y_train.head())\n",
        "print(\"\\ny_val head:\")\n",
        "print(y_val.head())"
      ],
      "cell_type": "code",
      "metadata": {
        "colab": {
          "base_uri": "https://localhost:8080/"
        },
        "id": "JtPrAgha1yWn",
        "outputId": "e74d6fca-8575-4de2-f586-d3c73788e19c"
      },
      "execution_count": 13,
      "outputs": [
        {
          "output_type": "stream",
          "name": "stdout",
          "text": [
            "X_train head:\n",
            "                 Movie Title  Release Year      Genre           Director  \\\n",
            "4               Forrest Gump          1999     Horror   Steven Spielberg   \n",
            "76        The Usual Suspects          2002  Adventure   Steven Spielberg   \n",
            "77  The Grand Budapest Hotel          2017  Adventure   Steven Spielberg   \n",
            "12             The Godfather          2013     Action       Ridley Scott   \n",
            "31              Forrest Gump          2001  Adventure  Christopher Nolan   \n",
            "\n",
            "                                         Main Cast  review_length    action  \\\n",
            "4          Matt Damon, Robin Williams, Ben Affleck             56  0.000000   \n",
            "76            Tom Hanks, Robin Wright, Gary Sinise             57  0.828836   \n",
            "77            Tom Hanks, Robin Wright, Gary Sinise             57  0.000000   \n",
            "12            Tom Hanks, Robin Wright, Gary Sinise             59  0.000000   \n",
            "31  Brad Pitt, Edward Norton, Helena Bonham Carter             57  0.000000   \n",
            "\n",
            "    adventur    comedi    critic     drama    highli    horror      love  \\\n",
            "4        0.0  0.000000  0.272660  0.792642  0.272660  0.000000  0.272660   \n",
            "76       0.0  0.000000  0.250212  0.000000  0.250212  0.000000  0.250212   \n",
            "77       0.0  0.821145  0.255234  0.000000  0.255234  0.000000  0.255234   \n",
            "12       0.0  0.000000  0.283704  0.000000  0.283704  0.000000  0.283704   \n",
            "31       0.0  0.000000  0.276501  0.000000  0.276501  0.785962  0.276501   \n",
            "\n",
            "        movi      rate  romanc  scifi  thriller  \n",
            "4   0.272660  0.272660     0.0    0.0  0.000000  \n",
            "76  0.250212  0.250212     0.0    0.0  0.000000  \n",
            "77  0.255234  0.255234     0.0    0.0  0.000000  \n",
            "12  0.283704  0.283704     0.0    0.0  0.773021  \n",
            "31  0.276501  0.276501     0.0    0.0  0.000000  \n",
            "\n",
            "X_val head:\n",
            "                                          Movie Title  Release Year  \\\n",
            "90                                       Pulp Fiction          2002   \n",
            "44  The Lord of the Rings: The Fellowship of the Ring          1997   \n",
            "80                                   Django Unchained          2019   \n",
            "18                                 The Social Network          1993   \n",
            "73                                             Avatar          2022   \n",
            "\n",
            "        Genre           Director  \\\n",
            "90  Adventure    Martin Scorsese   \n",
            "44  Adventure   Steven Spielberg   \n",
            "80     Action       Ridley Scott   \n",
            "18      Drama    Martin Scorsese   \n",
            "73     Action  Quentin Tarantino   \n",
            "\n",
            "                                            Main Cast  review_length  action  \\\n",
            "90               Tom Hanks, Robin Wright, Gary Sinise             58     0.0   \n",
            "44  Leonardo DiCaprio, Joseph Gordon-Levitt, Ellen...             59     0.0   \n",
            "80            Matt Damon, Robin Williams, Ben Affleck             57     0.0   \n",
            "18     Brad Pitt, Edward Norton, Helena Bonham Carter             60     0.0   \n",
            "73            Matt Damon, Robin Williams, Ben Affleck             57     0.0   \n",
            "\n",
            "    adventur    comedi    critic  drama    highli  horror      love      movi  \\\n",
            "90  0.000000  0.000000  0.255234    0.0  0.255234     0.0  0.255234  0.255234   \n",
            "44  0.000000  0.000000  0.283704    0.0  0.283704     0.0  0.283704  0.283704   \n",
            "80  0.000000  0.821145  0.255234    0.0  0.255234     0.0  0.255234  0.255234   \n",
            "18  0.792642  0.000000  0.272660    0.0  0.272660     0.0  0.272660  0.272660   \n",
            "73  0.000000  0.821145  0.255234    0.0  0.255234     0.0  0.255234  0.255234   \n",
            "\n",
            "        rate    romanc  scifi  thriller  \n",
            "90  0.255234  0.821145    0.0  0.000000  \n",
            "44  0.283704  0.000000    0.0  0.773021  \n",
            "80  0.255234  0.000000    0.0  0.000000  \n",
            "18  0.272660  0.000000    0.0  0.000000  \n",
            "73  0.255234  0.000000    0.0  0.000000  \n",
            "\n",
            "y_train head:\n",
            "4      6\n",
            "76     8\n",
            "77     2\n",
            "12    10\n",
            "31     1\n",
            "Name: Rating, dtype: int64\n",
            "\n",
            "y_val head:\n",
            "90    8\n",
            "44    3\n",
            "80    5\n",
            "18    3\n",
            "73    5\n",
            "Name: Rating, dtype: int64\n"
          ]
        }
      ]
    },
    {
      "source": [
        "## Data splitting\n",
        "\n",
        "### Subtask:\n",
        "Split the data into training, validation, and testing sets, ensuring a balanced representation of sentiment labels across all sets.\n"
      ],
      "cell_type": "markdown",
      "metadata": {
        "id": "9jxtJVMi13U1"
      }
    },
    {
      "source": [
        "**Reasoning**:\n",
        "The data is already split into training, validation and testing sets. I need to print the shapes and value counts of the target variable to verify the split.\n",
        "\n"
      ],
      "cell_type": "markdown",
      "metadata": {
        "id": "95cjGo9b14OQ"
      }
    },
    {
      "source": [
        "print(\"X_train shape:\", X_train.shape)\n",
        "print(\"y_train shape:\", y_train.shape)\n",
        "print(\"X_val shape:\", X_val.shape)\n",
        "print(\"y_val shape:\", y_val.shape)\n",
        "print(\"X_test shape:\", X_test.shape)\n",
        "print(\"y_test shape:\", y_test.shape)\n",
        "\n",
        "print(\"\\ny_train value counts:\\n\", y_train.value_counts())\n",
        "print(\"\\ny_val value counts:\\n\", y_val.value_counts())\n",
        "print(\"\\ny_test value counts:\\n\", y_test.value_counts())"
      ],
      "cell_type": "code",
      "metadata": {
        "colab": {
          "base_uri": "https://localhost:8080/"
        },
        "id": "t23GqdcV14eC",
        "outputId": "26d7ecbf-5622-47f2-f691-a9731b7aadc2"
      },
      "execution_count": 14,
      "outputs": [
        {
          "output_type": "stream",
          "name": "stdout",
          "text": [
            "X_train shape: (85, 19)\n",
            "y_train shape: (85,)\n",
            "X_val shape: (7, 19)\n",
            "y_val shape: (7,)\n",
            "X_test shape: (8, 19)\n",
            "y_test shape: (8,)\n",
            "\n",
            "y_train value counts:\n",
            " Rating\n",
            "6     11\n",
            "7     11\n",
            "4     11\n",
            "8     10\n",
            "2      8\n",
            "10     8\n",
            "1      8\n",
            "3      7\n",
            "5      6\n",
            "9      5\n",
            "Name: count, dtype: int64\n",
            "\n",
            "y_val value counts:\n",
            " Rating\n",
            "5     3\n",
            "3     2\n",
            "8     1\n",
            "10    1\n",
            "Name: count, dtype: int64\n",
            "\n",
            "y_test value counts:\n",
            " Rating\n",
            "8     2\n",
            "7     2\n",
            "6     2\n",
            "10    1\n",
            "1     1\n",
            "Name: count, dtype: int64\n"
          ]
        }
      ]
    },
    {
      "source": [
        "## Model training\n",
        "\n",
        "### Subtask:\n",
        "Train a Logistic Regression model for sentiment analysis.\n"
      ],
      "cell_type": "markdown",
      "metadata": {
        "id": "4OAGrN5A19vj"
      }
    },
    {
      "source": [
        "**Reasoning**:\n",
        "The previous attempts failed due to class imbalance in the validation set.  I will check the value counts of `y_train` and `y_val` to verify the imbalance and then proceed with resampling if necessary, or adjust class weights in the Logistic Regression model. I will use only numerical features for the model training and evaluate its performance.\n",
        "\n"
      ],
      "cell_type": "markdown",
      "metadata": {
        "id": "0BcVoNvZ1-n1"
      }
    },
    {
      "source": [
        "import numpy as np\n",
        "from sklearn.linear_model import LogisticRegression\n",
        "from sklearn.metrics import accuracy_score, f1_score\n",
        "\n",
        "# Check the distribution of ratings in y_train and y_val\n",
        "print(\"y_train value counts:\\n\", y_train.value_counts())\n",
        "print(\"\\ny_val value counts:\\n\", y_val.value_counts())\n",
        "\n",
        "# Select only numerical features\n",
        "numerical_features = ['Release Year', 'review_length', 'action', 'adventur', 'comedi', 'critic', 'drama', 'highli', 'horror', 'love', 'movi', 'rate', 'romanc', 'scifi', 'thriller']\n",
        "X_train_num = X_train[numerical_features]\n",
        "X_val_num = X_val[numerical_features]\n",
        "\n",
        "# Train a Logistic Regression model with different solvers and handle potential convergence warnings\n",
        "for solver in ['newton-cg', 'lbfgs', 'liblinear', 'sag', 'saga']:\n",
        "    try:\n",
        "        logreg_model = LogisticRegression(solver=solver, max_iter=10000)\n",
        "        logreg_model.fit(X_train_num, y_train)\n",
        "        y_pred = logreg_model.predict(X_val_num)\n",
        "        accuracy = accuracy_score(y_val, y_pred)\n",
        "        f1 = f1_score(y_val, y_pred, average='weighted')\n",
        "        print(f\"Solver: {solver}, Accuracy: {accuracy}, F1 Score: {f1}\")\n",
        "    except Exception as e:\n",
        "        print(f\"Solver: {solver} failed with error: {e}\")"
      ],
      "cell_type": "code",
      "metadata": {
        "colab": {
          "base_uri": "https://localhost:8080/"
        },
        "id": "2NB8vjr91-3r",
        "outputId": "113f129d-9eb3-40ab-fc12-fbee8dd32487"
      },
      "execution_count": 15,
      "outputs": [
        {
          "output_type": "stream",
          "name": "stdout",
          "text": [
            "y_train value counts:\n",
            " Rating\n",
            "6     11\n",
            "7     11\n",
            "4     11\n",
            "8     10\n",
            "2      8\n",
            "10     8\n",
            "1      8\n",
            "3      7\n",
            "5      6\n",
            "9      5\n",
            "Name: count, dtype: int64\n",
            "\n",
            "y_val value counts:\n",
            " Rating\n",
            "5     3\n",
            "3     2\n",
            "8     1\n",
            "10    1\n",
            "Name: count, dtype: int64\n",
            "Solver: newton-cg, Accuracy: 0.0, F1 Score: 0.0\n",
            "Solver: lbfgs, Accuracy: 0.0, F1 Score: 0.0\n",
            "Solver: liblinear, Accuracy: 0.0, F1 Score: 0.0\n",
            "Solver: sag, Accuracy: 0.0, F1 Score: 0.0\n",
            "Solver: saga, Accuracy: 0.0, F1 Score: 0.0\n"
          ]
        }
      ]
    },
    {
      "source": [
        "**Reasoning**:\n",
        "The model still performs poorly, likely due to the class imbalance issue. I'll try to use class weights to address this imbalance in the Logistic Regression model.\n",
        "\n"
      ],
      "cell_type": "markdown",
      "metadata": {
        "id": "RxPs3zFU2CDe"
      }
    },
    {
      "source": [
        "import numpy as np\n",
        "from sklearn.linear_model import LogisticRegression\n",
        "from sklearn.metrics import accuracy_score, f1_score\n",
        "\n",
        "# Calculate class weights based on y_train\n",
        "class_weights = y_train.value_counts(normalize=True).to_dict()\n",
        "\n",
        "# Select only numerical features\n",
        "numerical_features = ['Release Year', 'review_length', 'action', 'adventur', 'comedi', 'critic', 'drama', 'highli', 'horror', 'love', 'movi', 'rate', 'romanc', 'scifi', 'thriller']\n",
        "X_train_num = X_train[numerical_features]\n",
        "X_val_num = X_val[numerical_features]\n",
        "\n",
        "# Train a Logistic Regression model with different solvers and class weights\n",
        "for solver in ['newton-cg', 'lbfgs', 'liblinear', 'sag', 'saga']:\n",
        "    try:\n",
        "        logreg_model = LogisticRegression(solver=solver, max_iter=10000, class_weight=class_weights)\n",
        "        logreg_model.fit(X_train_num, y_train)\n",
        "        y_pred = logreg_model.predict(X_val_num)\n",
        "        accuracy = accuracy_score(y_val, y_pred)\n",
        "        f1 = f1_score(y_val, y_pred, average='weighted')\n",
        "        print(f\"Solver: {solver}, Accuracy: {accuracy}, F1 Score: {f1}\")\n",
        "    except Exception as e:\n",
        "        print(f\"Solver: {solver} failed with error: {e}\")"
      ],
      "cell_type": "code",
      "metadata": {
        "colab": {
          "base_uri": "https://localhost:8080/"
        },
        "id": "BgM4QCCU2CTM",
        "outputId": "add6b97b-a421-4ca3-93c8-e42f0e64c68c"
      },
      "execution_count": 16,
      "outputs": [
        {
          "output_type": "stream",
          "name": "stdout",
          "text": [
            "Solver: newton-cg, Accuracy: 0.0, F1 Score: 0.0\n",
            "Solver: lbfgs, Accuracy: 0.0, F1 Score: 0.0\n",
            "Solver: liblinear, Accuracy: 0.0, F1 Score: 0.0\n",
            "Solver: sag, Accuracy: 0.0, F1 Score: 0.0\n",
            "Solver: saga, Accuracy: 0.0, F1 Score: 0.0\n"
          ]
        }
      ]
    },
    {
      "source": [
        "**Reasoning**:\n",
        "Using class weights did not improve the model.  The issue might stem from the data split itself.  I will print the head of X_train, X_val, y_train, and y_val to further inspect the data.\n",
        "\n"
      ],
      "cell_type": "markdown",
      "metadata": {
        "id": "nzVM38iM2FSI"
      }
    },
    {
      "source": [
        "print(\"X_train head:\\n\", X_train.head())\n",
        "print(\"\\nX_val head:\\n\", X_val.head())\n",
        "print(\"\\ny_train head:\\n\", y_train.head())\n",
        "print(\"\\ny_val head:\\n\", y_val.head())"
      ],
      "cell_type": "code",
      "metadata": {
        "colab": {
          "base_uri": "https://localhost:8080/"
        },
        "id": "aI-8gpZN2Fh4",
        "outputId": "0d3f8acc-1fad-4853-ce42-b27049b57363"
      },
      "execution_count": 17,
      "outputs": [
        {
          "output_type": "stream",
          "name": "stdout",
          "text": [
            "X_train head:\n",
            "                  Movie Title  Release Year      Genre           Director  \\\n",
            "4               Forrest Gump          1999     Horror   Steven Spielberg   \n",
            "76        The Usual Suspects          2002  Adventure   Steven Spielberg   \n",
            "77  The Grand Budapest Hotel          2017  Adventure   Steven Spielberg   \n",
            "12             The Godfather          2013     Action       Ridley Scott   \n",
            "31              Forrest Gump          2001  Adventure  Christopher Nolan   \n",
            "\n",
            "                                         Main Cast  review_length    action  \\\n",
            "4          Matt Damon, Robin Williams, Ben Affleck             56  0.000000   \n",
            "76            Tom Hanks, Robin Wright, Gary Sinise             57  0.828836   \n",
            "77            Tom Hanks, Robin Wright, Gary Sinise             57  0.000000   \n",
            "12            Tom Hanks, Robin Wright, Gary Sinise             59  0.000000   \n",
            "31  Brad Pitt, Edward Norton, Helena Bonham Carter             57  0.000000   \n",
            "\n",
            "    adventur    comedi    critic     drama    highli    horror      love  \\\n",
            "4        0.0  0.000000  0.272660  0.792642  0.272660  0.000000  0.272660   \n",
            "76       0.0  0.000000  0.250212  0.000000  0.250212  0.000000  0.250212   \n",
            "77       0.0  0.821145  0.255234  0.000000  0.255234  0.000000  0.255234   \n",
            "12       0.0  0.000000  0.283704  0.000000  0.283704  0.000000  0.283704   \n",
            "31       0.0  0.000000  0.276501  0.000000  0.276501  0.785962  0.276501   \n",
            "\n",
            "        movi      rate  romanc  scifi  thriller  \n",
            "4   0.272660  0.272660     0.0    0.0  0.000000  \n",
            "76  0.250212  0.250212     0.0    0.0  0.000000  \n",
            "77  0.255234  0.255234     0.0    0.0  0.000000  \n",
            "12  0.283704  0.283704     0.0    0.0  0.773021  \n",
            "31  0.276501  0.276501     0.0    0.0  0.000000  \n",
            "\n",
            "X_val head:\n",
            "                                           Movie Title  Release Year  \\\n",
            "90                                       Pulp Fiction          2002   \n",
            "44  The Lord of the Rings: The Fellowship of the Ring          1997   \n",
            "80                                   Django Unchained          2019   \n",
            "18                                 The Social Network          1993   \n",
            "73                                             Avatar          2022   \n",
            "\n",
            "        Genre           Director  \\\n",
            "90  Adventure    Martin Scorsese   \n",
            "44  Adventure   Steven Spielberg   \n",
            "80     Action       Ridley Scott   \n",
            "18      Drama    Martin Scorsese   \n",
            "73     Action  Quentin Tarantino   \n",
            "\n",
            "                                            Main Cast  review_length  action  \\\n",
            "90               Tom Hanks, Robin Wright, Gary Sinise             58     0.0   \n",
            "44  Leonardo DiCaprio, Joseph Gordon-Levitt, Ellen...             59     0.0   \n",
            "80            Matt Damon, Robin Williams, Ben Affleck             57     0.0   \n",
            "18     Brad Pitt, Edward Norton, Helena Bonham Carter             60     0.0   \n",
            "73            Matt Damon, Robin Williams, Ben Affleck             57     0.0   \n",
            "\n",
            "    adventur    comedi    critic  drama    highli  horror      love      movi  \\\n",
            "90  0.000000  0.000000  0.255234    0.0  0.255234     0.0  0.255234  0.255234   \n",
            "44  0.000000  0.000000  0.283704    0.0  0.283704     0.0  0.283704  0.283704   \n",
            "80  0.000000  0.821145  0.255234    0.0  0.255234     0.0  0.255234  0.255234   \n",
            "18  0.792642  0.000000  0.272660    0.0  0.272660     0.0  0.272660  0.272660   \n",
            "73  0.000000  0.821145  0.255234    0.0  0.255234     0.0  0.255234  0.255234   \n",
            "\n",
            "        rate    romanc  scifi  thriller  \n",
            "90  0.255234  0.821145    0.0  0.000000  \n",
            "44  0.283704  0.000000    0.0  0.773021  \n",
            "80  0.255234  0.000000    0.0  0.000000  \n",
            "18  0.272660  0.000000    0.0  0.000000  \n",
            "73  0.255234  0.000000    0.0  0.000000  \n",
            "\n",
            "y_train head:\n",
            " 4      6\n",
            "76     8\n",
            "77     2\n",
            "12    10\n",
            "31     1\n",
            "Name: Rating, dtype: int64\n",
            "\n",
            "y_val head:\n",
            " 90    8\n",
            "44    3\n",
            "80    5\n",
            "18    3\n",
            "73    5\n",
            "Name: Rating, dtype: int64\n"
          ]
        }
      ]
    },
    {
      "source": [
        "**Reasoning**:\n",
        "Stratified splitting failed due to some classes having only one member.  I will try again without stratification, and then proceed with model training and evaluation.\n",
        "\n"
      ],
      "cell_type": "markdown",
      "metadata": {
        "id": "eidVgp912N2z"
      }
    },
    {
      "source": [
        "from sklearn.model_selection import train_test_split\n",
        "from sklearn.linear_model import LogisticRegression\n",
        "from sklearn.metrics import accuracy_score, f1_score\n",
        "import numpy as np\n",
        "\n",
        "# Split data into training and temporary sets (80% train, 20% temp)\n",
        "X_train, X_temp, y_train, y_temp = train_test_split(\n",
        "    X, y, test_size=0.2, random_state=42\n",
        ")\n",
        "\n",
        "# Split the temporary set into validation and testing sets (50% val, 50% test)\n",
        "X_val, X_test, y_val, y_test = train_test_split(\n",
        "    X_temp, y_temp, test_size=0.5, random_state=42\n",
        ")\n",
        "\n",
        "# Print the value counts of the target variable in the new splits\n",
        "print(\"y_train value counts:\\n\", y_train.value_counts())\n",
        "print(\"\\ny_val value counts:\\n\", y_val.value_counts())\n",
        "\n",
        "# Select numerical features\n",
        "numerical_features = ['Release Year', 'review_length', 'action', 'adventur', 'comedi', 'critic', 'drama', 'highli', 'horror', 'love', 'movi', 'rate', 'romanc', 'scifi', 'thriller']\n",
        "X_train_num = X_train[numerical_features]\n",
        "X_val_num = X_val[numerical_features]\n",
        "\n",
        "\n",
        "# Train and evaluate the model with the new split\n",
        "for solver in ['newton-cg', 'lbfgs', 'liblinear', 'sag', 'saga']:\n",
        "    try:\n",
        "        logreg_model = LogisticRegression(solver=solver, max_iter=10000)\n",
        "        logreg_model.fit(X_train_num, y_train)\n",
        "        y_pred = logreg_model.predict(X_val_num)\n",
        "        accuracy = accuracy_score(y_val, y_pred)\n",
        "        f1 = f1_score(y_val, y_pred, average='weighted')\n",
        "        print(f\"Solver: {solver}, Accuracy: {accuracy}, F1 Score: {f1}\")\n",
        "    except Exception as e:\n",
        "        print(f\"Solver: {solver} failed with error: {e}\")"
      ],
      "cell_type": "code",
      "metadata": {
        "colab": {
          "base_uri": "https://localhost:8080/"
        },
        "id": "LLzDADlt2OGo",
        "outputId": "676b54f8-87e7-4d1c-89a0-5447b8373e9a"
      },
      "execution_count": 19,
      "outputs": [
        {
          "output_type": "stream",
          "name": "stdout",
          "text": [
            "y_train value counts:\n",
            " Rating\n",
            "7     11\n",
            "4     11\n",
            "6     10\n",
            "8      9\n",
            "2      7\n",
            "3      7\n",
            "1      7\n",
            "10     7\n",
            "5      6\n",
            "9      5\n",
            "Name: count, dtype: int64\n",
            "\n",
            "y_val value counts:\n",
            " Rating\n",
            "8     3\n",
            "3     2\n",
            "5     2\n",
            "6     1\n",
            "1     1\n",
            "10    1\n",
            "Name: count, dtype: int64\n"
          ]
        },
        {
          "output_type": "stream",
          "name": "stderr",
          "text": [
            "/usr/local/lib/python3.11/dist-packages/scipy/optimize/_linesearch.py:312: LineSearchWarning: The line search algorithm did not converge\n",
            "  alpha_star, phi_star, old_fval, derphi_star = scalar_search_wolfe2(\n",
            "/usr/local/lib/python3.11/dist-packages/sklearn/utils/optimize.py:100: LineSearchWarning: The line search algorithm did not converge\n",
            "  ret = line_search_wolfe2(\n"
          ]
        },
        {
          "output_type": "stream",
          "name": "stdout",
          "text": [
            "Solver: newton-cg, Accuracy: 0.0, F1 Score: 0.0\n"
          ]
        },
        {
          "output_type": "stream",
          "name": "stderr",
          "text": [
            "/usr/local/lib/python3.11/dist-packages/sklearn/linear_model/_logistic.py:465: ConvergenceWarning: lbfgs failed to converge (status=1):\n",
            "STOP: TOTAL NO. of ITERATIONS REACHED LIMIT.\n",
            "\n",
            "Increase the number of iterations (max_iter) or scale the data as shown in:\n",
            "    https://scikit-learn.org/stable/modules/preprocessing.html\n",
            "Please also refer to the documentation for alternative solver options:\n",
            "    https://scikit-learn.org/stable/modules/linear_model.html#logistic-regression\n",
            "  n_iter_i = _check_optimize_result(\n"
          ]
        },
        {
          "output_type": "stream",
          "name": "stdout",
          "text": [
            "Solver: lbfgs, Accuracy: 0.0, F1 Score: 0.0\n",
            "Solver: liblinear, Accuracy: 0.0, F1 Score: 0.0\n",
            "Solver: sag, Accuracy: 0.0, F1 Score: 0.0\n",
            "Solver: saga, Accuracy: 0.0, F1 Score: 0.0\n"
          ]
        }
      ]
    },
    {
      "source": [
        "**Reasoning**:\n",
        "The model still fails to achieve reasonable performance.  I will try to scale the numerical features before training the model.\n",
        "\n"
      ],
      "cell_type": "markdown",
      "metadata": {
        "id": "b5UUVvaF2R9u"
      }
    },
    {
      "source": [
        "from sklearn.preprocessing import StandardScaler\n",
        "from sklearn.linear_model import LogisticRegression\n",
        "from sklearn.metrics import accuracy_score, f1_score\n",
        "\n",
        "# Select numerical features\n",
        "numerical_features = ['Release Year', 'review_length', 'action', 'adventur', 'comedi', 'critic', 'drama', 'highli', 'horror', 'love', 'movi', 'rate', 'romanc', 'scifi', 'thriller']\n",
        "X_train_num = X_train[numerical_features]\n",
        "X_val_num = X_val[numerical_features]\n",
        "\n",
        "# Scale numerical features using StandardScaler\n",
        "scaler = StandardScaler()\n",
        "X_train_scaled = scaler.fit_transform(X_train_num)\n",
        "X_val_scaled = scaler.transform(X_val_num)\n",
        "\n",
        "# Train and evaluate the model with scaled features\n",
        "for solver in ['newton-cg', 'lbfgs', 'liblinear', 'sag', 'saga']:\n",
        "    try:\n",
        "        logreg_model = LogisticRegression(solver=solver, max_iter=10000)\n",
        "        logreg_model.fit(X_train_scaled, y_train)\n",
        "        y_pred = logreg_model.predict(X_val_scaled)\n",
        "        accuracy = accuracy_score(y_val, y_pred)\n",
        "        f1 = f1_score(y_val, y_pred, average='weighted')\n",
        "        print(f\"Solver: {solver}, Accuracy: {accuracy}, F1 Score: {f1}\")\n",
        "    except Exception as e:\n",
        "        print(f\"Solver: {solver} failed with error: {e}\")"
      ],
      "cell_type": "code",
      "metadata": {
        "colab": {
          "base_uri": "https://localhost:8080/"
        },
        "id": "rgktEoZN2SNd",
        "outputId": "4fa0a746-bb11-4516-d279-5cdf8d0d1411"
      },
      "execution_count": 20,
      "outputs": [
        {
          "output_type": "stream",
          "name": "stdout",
          "text": [
            "Solver: newton-cg, Accuracy: 0.0, F1 Score: 0.0\n",
            "Solver: lbfgs, Accuracy: 0.0, F1 Score: 0.0\n",
            "Solver: liblinear, Accuracy: 0.0, F1 Score: 0.0\n",
            "Solver: sag, Accuracy: 0.0, F1 Score: 0.0\n",
            "Solver: saga, Accuracy: 0.0, F1 Score: 0.0\n"
          ]
        }
      ]
    },
    {
      "source": [
        "## Model training\n",
        "\n",
        "### Subtask:\n",
        "Train a Random Forest Classifier for sentiment analysis.\n"
      ],
      "cell_type": "markdown",
      "metadata": {
        "id": "3KIuSNXT2Y02"
      }
    },
    {
      "source": [
        "**Reasoning**:\n",
        "Train a Random Forest Classifier on the numerical features of the training set and evaluate its performance on the validation set.\n",
        "\n"
      ],
      "cell_type": "markdown",
      "metadata": {
        "id": "i9vXFAZN2ZrP"
      }
    },
    {
      "source": [
        "from sklearn.ensemble import RandomForestClassifier\n",
        "from sklearn.metrics import accuracy_score, f1_score\n",
        "\n",
        "# Select numerical features\n",
        "numerical_features = ['Release Year', 'review_length', 'action', 'adventur', 'comedi', 'critic', 'drama', 'highli', 'horror', 'love', 'movi', 'rate', 'romanc', 'scifi', 'thriller']\n",
        "X_train_num = X_train[numerical_features]\n",
        "X_val_num = X_val[numerical_features]\n",
        "\n",
        "# Initialize and train the Random Forest Classifier\n",
        "rf_classifier = RandomForestClassifier(n_estimators=100, max_depth=10, random_state=42)\n",
        "rf_classifier.fit(X_train_num, y_train)\n",
        "\n",
        "# Make predictions on the validation set\n",
        "y_pred = rf_classifier.predict(X_val_num)\n",
        "\n",
        "# Evaluate the model\n",
        "accuracy = accuracy_score(y_val, y_pred)\n",
        "f1 = f1_score(y_val, y_pred, average='weighted')\n",
        "\n",
        "print(f\"Accuracy: {accuracy}\")\n",
        "print(f\"F1 Score: {f1}\")"
      ],
      "cell_type": "code",
      "metadata": {
        "colab": {
          "base_uri": "https://localhost:8080/"
        },
        "id": "ylv87VFk2Z7A",
        "outputId": "8eeaa2c6-6709-40ca-e425-2109290d17be"
      },
      "execution_count": 21,
      "outputs": [
        {
          "output_type": "stream",
          "name": "stdout",
          "text": [
            "Accuracy: 0.1\n",
            "F1 Score: 0.15\n"
          ]
        }
      ]
    },
    {
      "source": [
        "## Model training\n",
        "\n",
        "### Subtask:\n",
        "Train a Random Forest Classifier model for sentiment analysis.\n"
      ],
      "cell_type": "markdown",
      "metadata": {
        "id": "g8dppb4p2e0w"
      }
    },
    {
      "source": [
        "**Reasoning**:\n",
        "Train a RandomForestClassifier model using the numerical features from the training data and make predictions on the validation data. Evaluate the model's performance using accuracy_score and f1_score.\n",
        "\n"
      ],
      "cell_type": "markdown",
      "metadata": {
        "id": "LhceAd3Y2fuI"
      }
    },
    {
      "source": [
        "from sklearn.ensemble import RandomForestClassifier\n",
        "from sklearn.metrics import accuracy_score, f1_score\n",
        "\n",
        "# Select numerical features\n",
        "numerical_features = ['Release Year', 'review_length', 'action', 'adventur', 'comedi', 'critic', 'drama', 'highli', 'horror', 'love', 'movi', 'rate', 'romanc', 'scifi', 'thriller']\n",
        "X_train_num = X_train[numerical_features]\n",
        "X_val_num = X_val[numerical_features]\n",
        "\n",
        "# Initialize and train the Random Forest Classifier\n",
        "rf_classifier = RandomForestClassifier(n_estimators=100, max_depth=10, random_state=42)\n",
        "rf_classifier.fit(X_train_num, y_train)\n",
        "\n",
        "# Make predictions on the validation set\n",
        "y_pred = rf_classifier.predict(X_val_num)\n",
        "\n",
        "# Evaluate the model\n",
        "accuracy = accuracy_score(y_val, y_pred)\n",
        "f1 = f1_score(y_val, y_pred, average='weighted')\n",
        "\n",
        "print(f\"Accuracy: {accuracy}\")\n",
        "print(f\"F1 Score: {f1}\")"
      ],
      "cell_type": "code",
      "metadata": {
        "colab": {
          "base_uri": "https://localhost:8080/"
        },
        "id": "wUVjXbqG2f-C",
        "outputId": "7db4bdc7-a067-42e1-e683-27bac2501db7"
      },
      "execution_count": 22,
      "outputs": [
        {
          "output_type": "stream",
          "name": "stdout",
          "text": [
            "Accuracy: 0.1\n",
            "F1 Score: 0.15\n"
          ]
        }
      ]
    },
    {
      "source": [
        "**Reasoning**:\n",
        "The previous RandomForestClassifier model performed poorly.  I will try adjusting the hyperparameters of the RandomForestClassifier to see if performance can be improved.  I will try different values of `n_estimators`, `max_depth`, and `min_samples_split` and evaluate with accuracy and f1 score.\n",
        "\n"
      ],
      "cell_type": "markdown",
      "metadata": {
        "id": "kr44EWQd2h64"
      }
    },
    {
      "source": [
        "from sklearn.ensemble import RandomForestClassifier\n",
        "from sklearn.metrics import accuracy_score, f1_score\n",
        "\n",
        "# Select numerical features\n",
        "numerical_features = ['Release Year', 'review_length', 'action', 'adventur', 'comedi', 'critic', 'drama', 'highli', 'horror', 'love', 'movi', 'rate', 'romanc', 'scifi', 'thriller']\n",
        "X_train_num = X_train[numerical_features]\n",
        "X_val_num = X_val[numerical_features]\n",
        "\n",
        "# Hyperparameter tuning\n",
        "for n_estimators in [50, 150, 200]:\n",
        "  for max_depth in [5, 15, 20]:\n",
        "    for min_samples_split in [2, 5, 10]:\n",
        "      rf_classifier = RandomForestClassifier(n_estimators=n_estimators, max_depth=max_depth, min_samples_split=min_samples_split, random_state=42)\n",
        "      rf_classifier.fit(X_train_num, y_train)\n",
        "      y_pred = rf_classifier.predict(X_val_num)\n",
        "      accuracy = accuracy_score(y_val, y_pred)\n",
        "      f1 = f1_score(y_val, y_pred, average='weighted')\n",
        "      print(f\"n_estimators={n_estimators}, max_depth={max_depth}, min_samples_split={min_samples_split}\")\n",
        "      print(f\"Accuracy: {accuracy}\")\n",
        "      print(f\"F1 Score: {f1}\")"
      ],
      "cell_type": "code",
      "metadata": {
        "colab": {
          "base_uri": "https://localhost:8080/"
        },
        "id": "Bw1wYb4N2iKn",
        "outputId": "0f3b8970-6c24-498a-f69e-ceda7dbadfc4"
      },
      "execution_count": 23,
      "outputs": [
        {
          "output_type": "stream",
          "name": "stdout",
          "text": [
            "n_estimators=50, max_depth=5, min_samples_split=2\n",
            "Accuracy: 0.1\n",
            "F1 Score: 0.15\n",
            "n_estimators=50, max_depth=5, min_samples_split=5\n",
            "Accuracy: 0.0\n",
            "F1 Score: 0.0\n",
            "n_estimators=50, max_depth=5, min_samples_split=10\n",
            "Accuracy: 0.0\n",
            "F1 Score: 0.0\n",
            "n_estimators=50, max_depth=15, min_samples_split=2\n",
            "Accuracy: 0.1\n",
            "F1 Score: 0.15\n",
            "n_estimators=50, max_depth=15, min_samples_split=5\n",
            "Accuracy: 0.0\n",
            "F1 Score: 0.0\n",
            "n_estimators=50, max_depth=15, min_samples_split=10\n",
            "Accuracy: 0.0\n",
            "F1 Score: 0.0\n",
            "n_estimators=50, max_depth=20, min_samples_split=2\n",
            "Accuracy: 0.1\n",
            "F1 Score: 0.15\n",
            "n_estimators=50, max_depth=20, min_samples_split=5\n",
            "Accuracy: 0.0\n",
            "F1 Score: 0.0\n",
            "n_estimators=50, max_depth=20, min_samples_split=10\n",
            "Accuracy: 0.0\n",
            "F1 Score: 0.0\n",
            "n_estimators=150, max_depth=5, min_samples_split=2\n",
            "Accuracy: 0.1\n",
            "F1 Score: 0.15\n",
            "n_estimators=150, max_depth=5, min_samples_split=5\n",
            "Accuracy: 0.1\n",
            "F1 Score: 0.15\n",
            "n_estimators=150, max_depth=5, min_samples_split=10\n",
            "Accuracy: 0.0\n",
            "F1 Score: 0.0\n",
            "n_estimators=150, max_depth=15, min_samples_split=2\n",
            "Accuracy: 0.3\n",
            "F1 Score: 0.2642857142857143\n",
            "n_estimators=150, max_depth=15, min_samples_split=5\n",
            "Accuracy: 0.1\n",
            "F1 Score: 0.15\n",
            "n_estimators=150, max_depth=15, min_samples_split=10\n",
            "Accuracy: 0.0\n",
            "F1 Score: 0.0\n",
            "n_estimators=150, max_depth=20, min_samples_split=2\n",
            "Accuracy: 0.3\n",
            "F1 Score: 0.2642857142857143\n",
            "n_estimators=150, max_depth=20, min_samples_split=5\n",
            "Accuracy: 0.1\n",
            "F1 Score: 0.15\n",
            "n_estimators=150, max_depth=20, min_samples_split=10\n",
            "Accuracy: 0.0\n",
            "F1 Score: 0.0\n",
            "n_estimators=200, max_depth=5, min_samples_split=2\n",
            "Accuracy: 0.1\n",
            "F1 Score: 0.15\n",
            "n_estimators=200, max_depth=5, min_samples_split=5\n",
            "Accuracy: 0.1\n",
            "F1 Score: 0.15\n",
            "n_estimators=200, max_depth=5, min_samples_split=10\n",
            "Accuracy: 0.0\n",
            "F1 Score: 0.0\n",
            "n_estimators=200, max_depth=15, min_samples_split=2\n",
            "Accuracy: 0.1\n",
            "F1 Score: 0.15\n",
            "n_estimators=200, max_depth=15, min_samples_split=5\n",
            "Accuracy: 0.1\n",
            "F1 Score: 0.15\n",
            "n_estimators=200, max_depth=15, min_samples_split=10\n",
            "Accuracy: 0.0\n",
            "F1 Score: 0.0\n",
            "n_estimators=200, max_depth=20, min_samples_split=2\n",
            "Accuracy: 0.1\n",
            "F1 Score: 0.15\n",
            "n_estimators=200, max_depth=20, min_samples_split=5\n",
            "Accuracy: 0.1\n",
            "F1 Score: 0.15\n",
            "n_estimators=200, max_depth=20, min_samples_split=10\n",
            "Accuracy: 0.0\n",
            "F1 Score: 0.0\n"
          ]
        }
      ]
    },
    {
      "source": [
        "**Reasoning**:\n",
        "The hyperparameter tuning did not significantly improve the model's performance.  I will try to use different features and retrain the model.  I'll include all features except the non-numerical ones.  I'll also try a different set of hyperparameters based on the previous results.\n",
        "\n"
      ],
      "cell_type": "markdown",
      "metadata": {
        "id": "YE_ieZPN2mDy"
      }
    },
    {
      "source": [
        "from sklearn.ensemble import RandomForestClassifier\n",
        "from sklearn.metrics import accuracy_score, f1_score\n",
        "\n",
        "# Select features (excluding non-numerical ones)\n",
        "features_to_use = ['Release Year', 'review_length', 'action', 'adventur', 'comedi', 'critic', 'drama', 'highli', 'horror', 'love', 'movi', 'rate', 'romanc', 'scifi', 'thriller']\n",
        "X_train_selected = X_train[features_to_use]\n",
        "X_val_selected = X_val[features_to_use]\n",
        "\n",
        "# Train a RandomForestClassifier with different hyperparameters\n",
        "rf_classifier = RandomForestClassifier(n_estimators=150, max_depth=15, min_samples_split=2, random_state=42)\n",
        "rf_classifier.fit(X_train_selected, y_train)\n",
        "\n",
        "# Make predictions and evaluate\n",
        "y_pred = rf_classifier.predict(X_val_selected)\n",
        "accuracy = accuracy_score(y_val, y_pred)\n",
        "f1 = f1_score(y_val, y_pred, average='weighted')\n",
        "\n",
        "print(f\"Accuracy: {accuracy}\")\n",
        "print(f\"F1 Score: {f1}\")"
      ],
      "cell_type": "code",
      "metadata": {
        "colab": {
          "base_uri": "https://localhost:8080/"
        },
        "id": "HSr3sfoM2mTi",
        "outputId": "e3a5345a-2fa5-47aa-bb28-e6c36673f803"
      },
      "execution_count": 24,
      "outputs": [
        {
          "output_type": "stream",
          "name": "stdout",
          "text": [
            "Accuracy: 0.3\n",
            "F1 Score: 0.2642857142857143\n"
          ]
        }
      ]
    },
    {
      "source": [
        "## Model evaluation\n",
        "\n",
        "### Subtask:\n",
        "Evaluate the performance of the best RandomForestClassifier model on the test set.\n"
      ],
      "cell_type": "markdown",
      "metadata": {
        "id": "pwEWOjMr2rqe"
      }
    },
    {
      "source": [
        "**Reasoning**:\n",
        "Evaluate the best RandomForestClassifier model on the test set using the specified metrics.  The best model from the previous subtask used the numerical features.  I will use the same numerical features to make predictions on X_test and then compute the evaluation metrics.\n",
        "\n"
      ],
      "cell_type": "markdown",
      "metadata": {
        "id": "EsSE0HlT2shv"
      }
    },
    {
      "source": [
        "from sklearn.metrics import accuracy_score, precision_score, recall_score, f1_score, roc_auc_score\n",
        "from sklearn.preprocessing import label_binarize\n",
        "import numpy as np\n",
        "\n",
        "# Use the best model from previous subtask (assuming it's rf_classifier with n_estimators=150, max_depth=15, min_samples_split=2)\n",
        "numerical_features = ['Release Year', 'review_length', 'action', 'adventur', 'comedi', 'critic', 'drama', 'highli', 'horror', 'love', 'movi', 'rate', 'romanc', 'scifi', 'thriller']\n",
        "X_test_num = X_test[numerical_features]\n",
        "\n",
        "# Predict on the test set\n",
        "y_pred = rf_classifier.predict(X_test_num)\n",
        "\n",
        "# Calculate evaluation metrics\n",
        "accuracy = accuracy_score(y_test, y_pred)\n",
        "precision = precision_score(y_test, y_pred, average='weighted')\n",
        "recall = recall_score(y_test, y_pred, average='weighted')\n",
        "f1 = f1_score(y_test, y_pred, average='weighted')\n",
        "\n",
        "# Binarize the labels for ROC AUC calculation\n",
        "y_test_bin = label_binarize(y_test, classes=np.unique(y_test))\n",
        "y_pred_bin = label_binarize(y_pred, classes=np.unique(y_test))\n",
        "\n",
        "# Calculate ROC AUC (macro-averaged)\n",
        "try:\n",
        "    roc_auc = roc_auc_score(y_test_bin, y_pred_bin, average='macro', multi_class='ovr')\n",
        "    print(f\"ROC AUC: {roc_auc}\")\n",
        "except ValueError as e:\n",
        "    print(f\"Error calculating ROC AUC: {e}\")\n",
        "\n",
        "print(f\"Accuracy: {accuracy}\")\n",
        "print(f\"Precision: {precision}\")\n",
        "print(f\"Recall: {recall}\")\n",
        "print(f\"F1 Score: {f1}\")\n",
        "\n",
        "# Discussion of the performance metrics (place this in a markdown cell in the notebook)\n",
        "# Compare the performance on the test set to the performance on the validation set.\n",
        "# If there is a significant difference between the two, explore possible explanations for this discrepancy."
      ],
      "cell_type": "code",
      "metadata": {
        "colab": {
          "base_uri": "https://localhost:8080/"
        },
        "id": "3Va7XTeM2sxe",
        "outputId": "27b2e666-3bdb-4443-caed-cf3e26cf635f"
      },
      "execution_count": 25,
      "outputs": [
        {
          "output_type": "stream",
          "name": "stdout",
          "text": [
            "ROC AUC: 0.4920634920634921\n",
            "Accuracy: 0.1\n",
            "Precision: 0.1\n",
            "Recall: 0.1\n",
            "F1 Score: 0.1\n"
          ]
        },
        {
          "output_type": "stream",
          "name": "stderr",
          "text": [
            "/usr/local/lib/python3.11/dist-packages/sklearn/metrics/_classification.py:1565: UndefinedMetricWarning: Precision is ill-defined and being set to 0.0 in labels with no predicted samples. Use `zero_division` parameter to control this behavior.\n",
            "  _warn_prf(average, modifier, f\"{metric.capitalize()} is\", len(result))\n",
            "/usr/local/lib/python3.11/dist-packages/sklearn/metrics/_classification.py:1565: UndefinedMetricWarning: Recall is ill-defined and being set to 0.0 in labels with no true samples. Use `zero_division` parameter to control this behavior.\n",
            "  _warn_prf(average, modifier, f\"{metric.capitalize()} is\", len(result))\n"
          ]
        }
      ]
    },
    {
      "source": [
        "**Reasoning**:\n",
        "The previous code block successfully computed the evaluation metrics, but there were warnings about undefined metrics.  We should add the `zero_division` parameter to `precision_score` and `recall_score` to handle these cases.  Then, I will add a markdown cell to discuss the results.\n",
        "\n"
      ],
      "cell_type": "markdown",
      "metadata": {
        "id": "4xHDIc3H2viu"
      }
    },
    {
      "source": [
        "from sklearn.metrics import accuracy_score, precision_score, recall_score, f1_score, roc_auc_score\n",
        "from sklearn.preprocessing import label_binarize\n",
        "import numpy as np\n",
        "\n",
        "# Use the best model from previous subtask (assuming it's rf_classifier with n_estimators=150, max_depth=15, min_samples_split=2)\n",
        "numerical_features = ['Release Year', 'review_length', 'action', 'adventur', 'comedi', 'critic', 'drama', 'highli', 'horror', 'love', 'movi', 'rate', 'romanc', 'scifi', 'thriller']\n",
        "X_test_num = X_test[numerical_features]\n",
        "\n",
        "# Predict on the test set\n",
        "y_pred = rf_classifier.predict(X_test_num)\n",
        "\n",
        "# Calculate evaluation metrics, handling zero division\n",
        "accuracy = accuracy_score(y_test, y_pred)\n",
        "precision = precision_score(y_test, y_pred, average='weighted', zero_division=0)\n",
        "recall = recall_score(y_test, y_pred, average='weighted', zero_division=0)\n",
        "f1 = f1_score(y_test, y_pred, average='weighted')\n",
        "\n",
        "# Binarize the labels for ROC AUC calculation\n",
        "y_test_bin = label_binarize(y_test, classes=np.unique(y_test))\n",
        "y_pred_bin = label_binarize(y_pred, classes=np.unique(y_test))\n",
        "\n",
        "# Calculate ROC AUC (macro-averaged)\n",
        "try:\n",
        "    roc_auc = roc_auc_score(y_test_bin, y_pred_bin, average='macro', multi_class='ovr')\n",
        "    print(f\"ROC AUC: {roc_auc}\")\n",
        "except ValueError as e:\n",
        "    print(f\"Error calculating ROC AUC: {e}\")\n",
        "\n",
        "print(f\"Accuracy: {accuracy}\")\n",
        "print(f\"Precision: {precision}\")\n",
        "print(f\"Recall: {recall}\")\n",
        "print(f\"F1 Score: {f1}\")"
      ],
      "cell_type": "code",
      "metadata": {
        "colab": {
          "base_uri": "https://localhost:8080/"
        },
        "id": "pjsKxkON2vyi",
        "outputId": "30426c0e-7129-4870-ba96-baec93542bff"
      },
      "execution_count": 26,
      "outputs": [
        {
          "output_type": "stream",
          "name": "stdout",
          "text": [
            "ROC AUC: 0.4920634920634921\n",
            "Accuracy: 0.1\n",
            "Precision: 0.1\n",
            "Recall: 0.1\n",
            "F1 Score: 0.1\n"
          ]
        }
      ]
    },
    {
      "source": [
        "**Reasoning**:\n",
        "The code has now successfully run without errors and produced the evaluation metrics.  I will now add a markdown cell to discuss the performance and compare it to the validation set performance.\n",
        "\n"
      ],
      "cell_type": "markdown",
      "metadata": {
        "id": "Ns0JI-X32xrz"
      }
    },
    {
      "source": [
        "# Discussion of the performance metrics (place this in a markdown cell in the notebook)\n",
        "# The model exhibits extremely poor performance on the test set, with an accuracy, precision, recall, and F1-score all around 0.1.\n",
        "# The ROC AUC score of approximately 0.5 suggests the model's predictions are essentially random.  This is significantly worse than the performance observed on the validation set in the previous subtask (where the model achieved an accuracy of 0.3 and an F1 score of 0.264).  This large discrepancy between the validation and test performance indicates a potential issue with overfitting to the validation set or a significant difference between the distribution of the validation and test data.  The small size of the test set might also exacerbate this issue. Further investigation is needed to explore the reasons behind this poor generalization and explore potential improvements.  For example, increasing the dataset size or using more robust feature engineering techniques could help."
      ],
      "cell_type": "code",
      "metadata": {
        "id": "8EvZ4Hvn2x7l"
      },
      "execution_count": 27,
      "outputs": []
    },
    {
      "source": [
        "## Summary:\n",
        "\n",
        "### 1. Q&A\n",
        "\n",
        "* **What is the sentiment distribution in the movie reviews?**  The distribution of sentiments (ratings) is visualized in a bar chart, but the exact counts and proportions are not explicitly given in the provided output.\n",
        "* **Are there any missing values in the dataset?** No missing values were found in the dataset.\n",
        "* **What is the relationship between review sentiment and review length?** A box plot shows the relationship between review sentiment (Rating) and review length.  It helps assess if longer or shorter reviews tend to correlate with positive or negative ratings.\n",
        "* **What is the performance of the best RandomForestClassifier model on the test set?** The model performs poorly on the test set with accuracy, precision, recall, and F1-score around 0.1.  The ROC AUC score is approximately 0.5, indicating random performance. This is significantly worse than its validation performance.\n",
        "* **Why did the Logistic Regression models fail to perform well?** The Logistic Regression models consistently performed poorly due to a severe class imbalance in the validation set (`y_val`), where certain rating classes present in the training set (`y_train`) were missing.\n",
        "\n",
        "\n",
        "### 2. Data Analysis Key Findings\n",
        "\n",
        "* **Data Imbalance in Validation Set:** The validation set (`y_val`) contained only a subset of the ratings present in the training set (`y_train`).  This significantly impacted Logistic Regression model performance, resulting in near-zero accuracy and F1-score.\n",
        "* **Poor Model Generalization:** The Random Forest Classifier, while showing slight improvement after hyperparameter tuning, exhibited poor generalization to the test set.  The test set performance (accuracy ~0.1, F1-score ~0.1, ROC AUC ~0.5) was considerably lower than its validation set performance (accuracy 0.3, F1-score 0.264), suggesting overfitting or a difference in data distribution.\n",
        "* **Average Review Length:** The average review length is 57.72 characters with a standard deviation of 1.29.\n",
        "\n",
        "### 3. Insights or Next Steps\n",
        "\n",
        "* **Investigate Data Splitting and Class Imbalance:** Re-evaluate the data splitting strategy to ensure a balanced representation of classes in the training, validation, and test sets. Address the class imbalance issue either by resampling techniques or using appropriate model parameters (e.g., class weights).\n",
        "* **Explore Alternative Models and Feature Engineering:** Consider more sophisticated machine learning models (e.g., Support Vector Machines, Neural Networks) or explore more advanced feature engineering techniques (e.g., word embeddings, n-grams) to improve model performance.  Explore the potential of using the full feature set (not just numerical) in the model training.\n"
      ],
      "cell_type": "markdown",
      "metadata": {
        "id": "ClntIv7024Im"
      }
    }
  ]
}